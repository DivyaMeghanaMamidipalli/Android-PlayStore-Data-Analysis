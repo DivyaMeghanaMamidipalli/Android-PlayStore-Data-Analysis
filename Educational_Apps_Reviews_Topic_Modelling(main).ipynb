{
  "nbformat": 4,
  "nbformat_minor": 0,
  "metadata": {
    "colab": {
      "name": "Educational_Apps_Reviews_Topic_Modelling.ipynb",
      "provenance": []
    },
    "kernelspec": {
      "name": "python3",
      "display_name": "Python 3"
    },
    "language_info": {
      "name": "python"
    }
  },
  "cells": [
    {
      "cell_type": "markdown",
      "source": [
        "#Topic Modelling"
      ],
      "metadata": {
        "id": "O_1OQ37QvM3f"
      }
    },
    {
      "cell_type": "markdown",
      "source": [
        "##Importing Libraries"
      ],
      "metadata": {
        "id": "kcDpJiq-uHQt"
      }
    },
    {
      "cell_type": "code",
      "source": [
        "#Basic text manipulation libraries\n",
        "import nltk\n",
        "from nltk.tokenize import word_tokenize\n",
        "from nltk.tokenize import sent_tokenize\n",
        "from nltk.corpus import stopwords\n",
        "from nltk.stem import SnowballStemmer\n",
        "from nltk.stem import WordNetLemmatizer"
      ],
      "metadata": {
        "id": "y69OLVatCMC8"
      },
      "execution_count": null,
      "outputs": []
    },
    {
      "cell_type": "code",
      "source": [
        "import os\n",
        "import numpy as np\n",
        "import pandas as pd\n",
        "import re\n",
        "import spacy\n",
        "\n",
        "import gensim\n",
        "from gensim import corpora\n",
        "nltk.download('omw-1.4')\n",
        "nltk.download('wordnet')\n",
        "from gensim import corpora\n",
        "import matplotlib.pyplot as plt\n",
        "import seaborn as sns\n",
        "%matplotlib inline"
      ],
      "metadata": {
        "id": "kV4-V6zjuPFF",
        "colab": {
          "base_uri": "https://localhost:8080/"
        },
        "outputId": "32e04876-21ed-4229-ec03-2f0ff00b6f65"
      },
      "execution_count": null,
      "outputs": [
        {
          "output_type": "stream",
          "name": "stderr",
          "text": [
            "[nltk_data] Downloading package omw-1.4 to /root/nltk_data...\n",
            "[nltk_data]   Package omw-1.4 is already up-to-date!\n",
            "[nltk_data] Downloading package wordnet to /root/nltk_data...\n",
            "[nltk_data]   Package wordnet is already up-to-date!\n"
          ]
        }
      ]
    },
    {
      "cell_type": "markdown",
      "source": [
        "##Function for analysing the apps"
      ],
      "metadata": {
        "id": "ADhmUuBaTT2b"
      }
    },
    {
      "cell_type": "code",
      "source": [
        "def plot(data):\n",
        "  sns.countplot(data['score'])\n",
        "  plt.title('Count of the review ratings')\n",
        "  plt.show()"
      ],
      "metadata": {
        "id": "3vazLTANTZyE"
      },
      "execution_count": null,
      "outputs": []
    },
    {
      "cell_type": "markdown",
      "source": [
        "## Function for Data Preprocessing\n",
        "\n"
      ],
      "metadata": {
        "id": "TH7gPLxSuRir"
      }
    },
    {
      "cell_type": "markdown",
      "source": [
        "Preprocessing includes the following steps\n",
        "1.Tokenization\n",
        "2.Removing the stop words\n",
        "3.Words smaller than length 3 are removed\n",
        "4.Lemmetization\n",
        "5.Stemming"
      ],
      "metadata": {
        "id": "NulrQbWf_wzr"
      }
    },
    {
      "cell_type": "code",
      "source": [
        "def lemmatize(text):\n",
        "    return WordNetLemmatizer().lemmatize(text,pos='n')\n",
        "   \n",
        "\n",
        "#tokenize and lemmatize\n",
        "def preprocess(text):\n",
        "    result = []\n",
        "    for token in gensim.utils.simple_preprocess(text):\n",
        "        if token not in gensim.parsing.preprocessing.STOPWORDS and len(token) > 3:\n",
        "            result.append(lemmatize(token))\n",
        "    return result"
      ],
      "metadata": {
        "id": "hDw4p2y2Fp-u"
      },
      "execution_count": null,
      "outputs": []
    },
    {
      "cell_type": "code",
      "source": [
        "def preprocessing(data):\n",
        "  processed_docs = []\n",
        "  for doc in data['content']:\n",
        "    processed_docs.append(preprocess(doc))\n",
        "  return processed_docs\n"
      ],
      "metadata": {
        "id": "rDlzFbnGGPo2"
      },
      "execution_count": null,
      "outputs": []
    },
    {
      "cell_type": "markdown",
      "source": [
        "##Building an LDA model"
      ],
      "metadata": {
        "id": "l5a4qTGIygfj"
      }
    },
    {
      "cell_type": "code",
      "source": [
        "LDA = gensim.models.ldamodel.LdaModel"
      ],
      "metadata": {
        "id": "U7V1JIejy-KH"
      },
      "execution_count": null,
      "outputs": []
    },
    {
      "cell_type": "code",
      "source": [
        "def creating_lda_model(data):\n",
        "  dictionary = corpora.Dictionary(preprocessing(data))\n",
        "  doc_term_matrix = [dictionary.doc2bow(doc) for doc in preprocessing(data)]\n",
        "  lda_model = LDA(corpus=doc_term_matrix, id2word=dictionary, num_topics=7, random_state=100,chunksize=1000, passes=50)\n",
        "  return lda_model"
      ],
      "metadata": {
        "id": "IUYmB61QA5CD"
      },
      "execution_count": null,
      "outputs": []
    },
    {
      "cell_type": "code",
      "source": [
        "def printing_topics(data):\n",
        "  for idx,topic in creating_lda_model(data).print_topics(-1,num_words=10):\n",
        "    print(\"Topic: {} \\nWords: {}\".format(idx, topic ))\n",
        "    print(\"\\n\")"
      ],
      "metadata": {
        "id": "sae4c70aPJup"
      },
      "execution_count": null,
      "outputs": []
    },
    {
      "cell_type": "markdown",
      "source": [
        "#Topic_Modelling_Apps"
      ],
      "metadata": {
        "id": "5AhYFiygW8IV"
      }
    },
    {
      "cell_type": "markdown",
      "source": [
        "##APP-1  "
      ],
      "metadata": {
        "id": "9L3_ryK7PoSl"
      }
    },
    {
      "cell_type": "code",
      "source": [
        "app1data= pd.read_excel('/content/ABC Kids.xlsx')\n",
        "app1data_bad_reviews= app1data.loc[app1data.score==1]\n",
        "printing_topics(app1data_bad_reviews)\n",
        "print(\"\\n\")"
      ],
      "metadata": {
        "colab": {
          "base_uri": "https://localhost:8080/"
        },
        "id": "HKDPcmpTQLJy",
        "outputId": "15c96484-9805-40fc-b098-63824453f51b"
      },
      "execution_count": null,
      "outputs": [
        {
          "output_type": "stream",
          "name": "stdout",
          "text": [
            "Topic: 0 \n",
            "Words: 0.021*\"writing\" + 0.021*\"like\" + 0.021*\"good\" + 0.021*\"english\" + 0.021*\"people\" + 0.021*\"perfect\" + 0.021*\"pronunciation\" + 0.021*\"letter\" + 0.011*\"need\" + 0.011*\"update\"\n",
            "\n",
            "\n",
            "Topic: 1 \n",
            "Words: 0.049*\"phonetics\" + 0.037*\"letter\" + 0.025*\"sound\" + 0.025*\"teach\" + 0.025*\"teacher\" + 0.014*\"properly\" + 0.014*\"teaching\" + 0.014*\"learn\" + 0.014*\"method\" + 0.014*\"worked\"\n",
            "\n",
            "\n",
            "Topic: 2 \n",
            "Words: 0.037*\"apps\" + 0.030*\"working\" + 0.023*\"play\" + 0.016*\"game\" + 0.016*\"permission\" + 0.016*\"open\" + 0.016*\"install\" + 0.016*\"time\" + 0.016*\"tablet\" + 0.016*\"possible\"\n",
            "\n",
            "\n",
            "Topic: 3 \n",
            "Words: 0.045*\"letter\" + 0.026*\"game\" + 0.026*\"sound\" + 0.020*\"child\" + 0.014*\"want\" + 0.014*\"offspring\" + 0.014*\"subscription\" + 0.014*\"cancel\" + 0.014*\"case\" + 0.014*\"year\"\n",
            "\n",
            "\n",
            "Topic: 4 \n",
            "Words: 0.032*\"letter\" + 0.032*\"sound\" + 0.020*\"select\" + 0.020*\"setting\" + 0.013*\"issue\" + 0.013*\"load\" + 0.013*\"tracing\" + 0.013*\"option\" + 0.013*\"pronounce\" + 0.013*\"checked\"\n",
            "\n",
            "\n",
            "Topic: 5 \n",
            "Words: 0.030*\"version\" + 0.021*\"working\" + 0.021*\"lucas\" + 0.021*\"child\" + 0.011*\"phone\" + 0.011*\"loved\" + 0.011*\"uninstalled\" + 0.011*\"want\" + 0.011*\"pretty\" + 0.011*\"character\"\n",
            "\n",
            "\n",
            "Topic: 6 \n",
            "Words: 0.023*\"animation\" + 0.023*\"button\" + 0.023*\"trassing\" + 0.012*\"alphabet\" + 0.012*\"played\" + 0.012*\"screen\" + 0.012*\"year\" + 0.012*\"absolutely\" + 0.012*\"younger\" + 0.012*\"there\"\n",
            "\n",
            "\n",
            "\n",
            "\n"
          ]
        }
      ]
    },
    {
      "cell_type": "markdown",
      "source": [
        "\n",
        "\n",
        "*   Topic-1   Phone Version not available for all settings\n",
        "*  Topic-2   Teachers misspelling the words\n",
        "*   Topic-3   More time taking for downloading\n",
        "*   Topic-4  Perfect English, Very Helpful\n",
        "*   Topic-5  Issue occuring while animation writing.\n",
        "*  Topic-6 Wants even better characters\n",
        "*  Topic-7 Problem in animation button\n",
        "\n",
        "\n",
        "\n",
        "\n",
        "\n"
      ],
      "metadata": {
        "id": "CZFTnwvPeWZc"
      }
    },
    {
      "cell_type": "code",
      "source": [
        "plot(app1data)"
      ],
      "metadata": {
        "colab": {
          "base_uri": "https://localhost:8080/",
          "height": 350
        },
        "id": "QFqAwEZ9UIgG",
        "outputId": "69a29983-1220-4fe8-9100-6c1780e7ca09"
      },
      "execution_count": null,
      "outputs": [
        {
          "output_type": "stream",
          "name": "stderr",
          "text": [
            "/usr/local/lib/python3.7/dist-packages/seaborn/_decorators.py:43: FutureWarning: Pass the following variable as a keyword arg: x. From version 0.12, the only valid positional argument will be `data`, and passing other arguments without an explicit keyword will result in an error or misinterpretation.\n",
            "  FutureWarning\n"
          ]
        },
        {
          "output_type": "display_data",
          "data": {
            "text/plain": [
              "<Figure size 432x288 with 1 Axes>"
            ],
            "image/png": "[encoded data removed]"
          },
          "metadata": {
            "needs_background": "light"
          }
        }
      ]
    },
    {
      "cell_type": "markdown",
      "source": [
        "##APP2 "
      ],
      "metadata": {
        "id": "D4ObIlpEVECL"
      }
    },
    {
      "cell_type": "code",
      "source": [
        "app2data= pd.read_excel('/content/ABCmouse (1).xlsx')\n",
        "app2data_bad_reviews= app2data.loc[app2data.score==1]\n",
        "printing_topics(app2data_bad_reviews)\n",
        "print(\"\\n\")"
      ],
      "metadata": {
        "colab": {
          "base_uri": "https://localhost:8080/"
        },
        "id": "f49hH2xiVB1l",
        "outputId": "4e529e9e-6470-4004-b35b-82e94f2a8373"
      },
      "execution_count": null,
      "outputs": [
        {
          "output_type": "stream",
          "name": "stdout",
          "text": [
            "Topic: 0 \n",
            "Words: 0.020*\"issue\" + 0.012*\"phone\" + 0.012*\"stuck\" + 0.012*\"child\" + 0.011*\"learning\" + 0.011*\"work\" + 0.010*\"activity\" + 0.009*\"load\" + 0.009*\"screen\" + 0.008*\"tried\"\n",
            "\n",
            "\n",
            "Topic: 1 \n",
            "Words: 0.019*\"time\" + 0.019*\"work\" + 0.015*\"year\" + 0.014*\"phone\" + 0.012*\"download\" + 0.010*\"subscription\" + 0.010*\"screen\" + 0.009*\"tried\" + 0.009*\"freeze\" + 0.009*\"like\"\n",
            "\n",
            "\n",
            "Topic: 2 \n",
            "Words: 0.022*\"subscription\" + 0.016*\"year\" + 0.015*\"cancel\" + 0.014*\"money\" + 0.010*\"load\" + 0.009*\"learning\" + 0.008*\"disappointed\" + 0.008*\"mouse\" + 0.007*\"experience\" + 0.007*\"service\"\n",
            "\n",
            "\n",
            "Topic: 3 \n",
            "Words: 0.024*\"load\" + 0.015*\"cancel\" + 0.015*\"time\" + 0.015*\"device\" + 0.014*\"year\" + 0.010*\"subscription\" + 0.010*\"slow\" + 0.010*\"great\" + 0.009*\"take\" + 0.009*\"activity\"\n",
            "\n",
            "\n",
            "Topic: 4 \n",
            "Words: 0.022*\"month\" + 0.021*\"subscription\" + 0.019*\"account\" + 0.018*\"charged\" + 0.017*\"cancel\" + 0.015*\"service\" + 0.014*\"free\" + 0.013*\"card\" + 0.011*\"charge\" + 0.010*\"money\"\n",
            "\n",
            "\n",
            "Topic: 5 \n",
            "Words: 0.022*\"cancel\" + 0.017*\"time\" + 0.016*\"subscription\" + 0.015*\"screen\" + 0.013*\"trying\" + 0.012*\"account\" + 0.011*\"month\" + 0.010*\"login\" + 0.010*\"work\" + 0.010*\"money\"\n",
            "\n",
            "\n",
            "Topic: 6 \n",
            "Words: 0.026*\"free\" + 0.022*\"work\" + 0.018*\"month\" + 0.016*\"trial\" + 0.012*\"subscription\" + 0.011*\"service\" + 0.010*\"charged\" + 0.010*\"money\" + 0.009*\"page\" + 0.009*\"cancel\"\n",
            "\n",
            "\n",
            "\n",
            "\n"
          ]
        }
      ]
    },
    {
      "cell_type": "markdown",
      "source": [
        "*   Topic-1   Screen freezing in the middle\n",
        "*  Topic-2   Slow Loading\n",
        "*   Topic-3   Charged for one month free trial also\n",
        "*   Topic-4  Pointer like mouse is annoying\n",
        "*   Topic-5  Subscription issues\n",
        "*   Topc-6  Login issues\n",
        "*   Topic-7  Payment related issue"
      ],
      "metadata": {
        "id": "QGv2AfFyv6Yt"
      }
    },
    {
      "cell_type": "code",
      "source": [
        "plot(app2data)"
      ],
      "metadata": {
        "colab": {
          "base_uri": "https://localhost:8080/"
        },
        "id": "00aSuXvsUn8m",
        "outputId": "e082184e-4092-46ed-d294-b00cfba3221d"
      },
      "execution_count": null,
      "outputs": [
        {
          "output_type": "stream",
          "name": "stderr",
          "text": [
            "/usr/local/lib/python3.7/dist-packages/seaborn/_decorators.py:43: FutureWarning: Pass the following variable as a keyword arg: x. From version 0.12, the only valid positional argument will be `data`, and passing other arguments without an explicit keyword will result in an error or misinterpretation.\n",
            "  FutureWarning\n"
          ]
        },
        {
          "output_type": "display_data",
          "data": {
            "text/plain": [
              "<Figure size 432x288 with 1 Axes>"
            ],
            "image/png": "[encoded data removed]"
          },
          "metadata": {
            "needs_background": "light"
          }
        }
      ]
    },
    {
      "cell_type": "markdown",
      "source": [
        "##APP3"
      ],
      "metadata": {
        "id": "qTyyh4n5V9Ts"
      }
    },
    {
      "cell_type": "code",
      "source": [
        "app3data= pd.read_excel('/content/BYJUS (1).xlsx')\n",
        "app3data_bad_reviews= app3data.loc[app3data.score==2]\n",
        "printing_topics(app3data_bad_reviews)\n",
        "print(\"\\n\")"
      ],
      "metadata": {
        "colab": {
          "base_uri": "https://localhost:8080/"
        },
        "id": "c2iQ7xbkV_aF",
        "outputId": "97540b57-b64f-40db-d172-3ff0852d55dc"
      },
      "execution_count": null,
      "outputs": [
        {
          "output_type": "stream",
          "name": "stdout",
          "text": [
            "Topic: 0 \n",
            "Words: 0.039*\"video\" + 0.026*\"good\" + 0.022*\"course\" + 0.018*\"problem\" + 0.018*\"watch\" + 0.018*\"class\" + 0.013*\"issue\" + 0.013*\"english\" + 0.013*\"teacher\" + 0.013*\"byjus\"\n",
            "\n",
            "\n",
            "Topic: 1 \n",
            "Words: 0.034*\"working\" + 0.024*\"update\" + 0.020*\"time\" + 0.015*\"byju\" + 0.015*\"properly\" + 0.015*\"vedio\" + 0.015*\"good\" + 0.010*\"tried\" + 0.010*\"reason\" + 0.010*\"issue\"\n",
            "\n",
            "\n",
            "Topic: 2 \n",
            "Words: 0.025*\"problem\" + 0.022*\"want\" + 0.022*\"good\" + 0.018*\"video\" + 0.015*\"change\" + 0.015*\"screen\" + 0.015*\"game\" + 0.011*\"star\" + 0.011*\"skip\" + 0.011*\"option\"\n",
            "\n",
            "\n",
            "Topic: 3 \n",
            "Words: 0.043*\"video\" + 0.022*\"topic\" + 0.019*\"class\" + 0.017*\"byjus\" + 0.017*\"good\" + 0.014*\"show\" + 0.011*\"network\" + 0.011*\"error\" + 0.011*\"start\" + 0.011*\"problem\"\n",
            "\n",
            "\n",
            "Topic: 4 \n",
            "Words: 0.059*\"video\" + 0.030*\"update\" + 0.026*\"question\" + 0.015*\"time\" + 0.015*\"help\" + 0.011*\"concept\" + 0.011*\"issue\" + 0.011*\"problem\" + 0.011*\"element\" + 0.011*\"come\"\n",
            "\n",
            "\n",
            "Topic: 5 \n",
            "Words: 0.026*\"issue\" + 0.026*\"class\" + 0.020*\"byjus\" + 0.020*\"talking\" + 0.013*\"calling\" + 0.013*\"open\" + 0.013*\"appear\" + 0.013*\"thing\" + 0.013*\"matter\" + 0.012*\"people\"\n",
            "\n",
            "\n",
            "Topic: 6 \n",
            "Words: 0.039*\"like\" + 0.031*\"good\" + 0.019*\"time\" + 0.016*\"number\" + 0.016*\"want\" + 0.013*\"subject\" + 0.012*\"hindi\" + 0.012*\"wrong\" + 0.012*\"access\" + 0.012*\"learning\"\n",
            "\n",
            "\n",
            "\n",
            "\n"
          ]
        }
      ]
    },
    {
      "cell_type": "markdown",
      "source": [
        "*   Topic-1  Starting Problem\n",
        "*  Topic-2   Problem coming in the middle of vedio\n",
        "*  Topic-3  Extra content more than subject \n",
        "*  Topic-4  Issue when reciecving a call\n",
        "*  Topic-5  Blank Screen after updating\n",
        "*  Topic-6 Issues regarding calling and talking\n",
        "*  Topic-7  Access issues\n"
      ],
      "metadata": {
        "id": "1zlwDdFB84_u"
      }
    },
    {
      "cell_type": "code",
      "source": [
        "plot(app3data)"
      ],
      "metadata": {
        "colab": {
          "base_uri": "https://localhost:8080/"
        },
        "id": "S9PLyh_NUsU4",
        "outputId": "b3cfd832-ae3e-4316-c82a-4398285b6a12"
      },
      "execution_count": null,
      "outputs": [
        {
          "output_type": "stream",
          "name": "stderr",
          "text": [
            "/usr/local/lib/python3.7/dist-packages/seaborn/_decorators.py:43: FutureWarning: Pass the following variable as a keyword arg: x. From version 0.12, the only valid positional argument will be `data`, and passing other arguments without an explicit keyword will result in an error or misinterpretation.\n",
            "  FutureWarning\n"
          ]
        },
        {
          "output_type": "display_data",
          "data": {
            "text/plain": [
              "<Figure size 432x288 with 1 Axes>"
            ],
            "image/png": "[encoded data removed]"
          },
          "metadata": {
            "needs_background": "light"
          }
        }
      ]
    },
    {
      "cell_type": "markdown",
      "source": [
        "##APP4"
      ],
      "metadata": {
        "id": "TL7nVCBBWTY_"
      }
    },
    {
      "cell_type": "code",
      "source": [
        "app4data= pd.read_excel('/content/Brainly.xlsx')\n",
        "app4data_bad_reviews= app4data.loc[app4data.score==1]\n",
        "printing_topics(app4data_bad_reviews)\n",
        "print(\"\\n\")"
      ],
      "metadata": {
        "colab": {
          "base_uri": "https://localhost:8080/"
        },
        "id": "R36iQhpKXanv",
        "outputId": "a611437a-8317-42c4-87ed-30b6e3ab67b2"
      },
      "execution_count": null,
      "outputs": [
        {
          "output_type": "stream",
          "name": "stdout",
          "text": [
            "Topic: 0 \n",
            "Words: 0.022*\"open\" + 0.021*\"like\" + 0.017*\"opening\" + 0.015*\"problem\" + 0.014*\"answer\" + 0.014*\"country\" + 0.013*\"working\" + 0.012*\"tried\" + 0.011*\"brainly\" + 0.011*\"need\"\n",
            "\n",
            "\n",
            "Topic: 1 \n",
            "Words: 0.049*\"problem\" + 0.047*\"connection\" + 0.032*\"like\" + 0.028*\"work\" + 0.026*\"say\" + 0.023*\"fine\" + 0.021*\"internet\" + 0.018*\"answer\" + 0.014*\"keep\" + 0.014*\"saying\"\n",
            "\n",
            "\n",
            "Topic: 2 \n",
            "Words: 0.019*\"work\" + 0.019*\"question\" + 0.012*\"download\" + 0.012*\"good\" + 0.012*\"help\" + 0.012*\"tried\" + 0.012*\"asking\" + 0.008*\"account\" + 0.008*\"open\" + 0.008*\"thing\"\n",
            "\n",
            "\n",
            "Topic: 3 \n",
            "Words: 0.039*\"question\" + 0.038*\"answer\" + 0.011*\"problem\" + 0.011*\"scan\" + 0.010*\"update\" + 0.009*\"wrong\" + 0.008*\"need\" + 0.008*\"like\" + 0.008*\"work\" + 0.008*\"experience\"\n",
            "\n",
            "\n",
            "Topic: 4 \n",
            "Words: 0.083*\"answer\" + 0.036*\"question\" + 0.025*\"time\" + 0.016*\"problem\" + 0.012*\"people\" + 0.012*\"wrong\" + 0.012*\"star\" + 0.011*\"good\" + 0.011*\"brainly\" + 0.010*\"want\"\n",
            "\n",
            "\n",
            "Topic: 5 \n",
            "Words: 0.063*\"question\" + 0.021*\"class\" + 0.020*\"like\" + 0.016*\"show\" + 0.014*\"change\" + 0.014*\"word\" + 0.014*\"brainly\" + 0.014*\"worst\" + 0.014*\"annoying\" + 0.012*\"say\"\n",
            "\n",
            "\n",
            "Topic: 6 \n",
            "Words: 0.020*\"teacher\" + 0.016*\"subscription\" + 0.016*\"money\" + 0.012*\"subject\" + 0.012*\"update\" + 0.012*\"good\" + 0.011*\"question\" + 0.008*\"solution\" + 0.008*\"student\" + 0.008*\"phone\"\n",
            "\n",
            "\n",
            "\n",
            "\n"
          ]
        }
      ]
    },
    {
      "cell_type": "markdown",
      "source": [
        "*  Topic-1  Starting Problem\n",
        "*  Topic-2  Connection Problem\n",
        "*  Topic-3  Downloading issue\n",
        "*  Topic-4  Scanning problem during question answering\n",
        "*  Topic-5 Ranking issues\n",
        "*  Topic-6 Problem in the question asked\n",
        "*  Topic-7 Aking for the subscription money"
      ],
      "metadata": {
        "id": "2GFyApSS_K3f"
      }
    },
    {
      "cell_type": "code",
      "source": [
        "plot(app4data)"
      ],
      "metadata": {
        "colab": {
          "base_uri": "https://localhost:8080/"
        },
        "id": "fTazw3UqUweA",
        "outputId": "9a56a38e-7630-468c-aca3-021311ed1a34"
      },
      "execution_count": null,
      "outputs": [
        {
          "output_type": "stream",
          "name": "stderr",
          "text": [
            "/usr/local/lib/python3.7/dist-packages/seaborn/_decorators.py:43: FutureWarning: Pass the following variable as a keyword arg: x. From version 0.12, the only valid positional argument will be `data`, and passing other arguments without an explicit keyword will result in an error or misinterpretation.\n",
            "  FutureWarning\n"
          ]
        },
        {
          "output_type": "display_data",
          "data": {
            "text/plain": [
              "<Figure size 432x288 with 1 Axes>"
            ],
            "image/png": "[encoded data removed]"
          },
          "metadata": {
            "needs_background": "light"
          }
        }
      ]
    },
    {
      "cell_type": "markdown",
      "source": [
        "##APP5"
      ],
      "metadata": {
        "id": "7eXLXQhIWVN6"
      }
    },
    {
      "cell_type": "code",
      "source": [
        "app5data= pd.read_excel('/content/Coursera (1).xlsx')\n",
        "app5data_bad_reviews= app5data.loc[app5data.score==1]\n",
        "printing_topics(app5data_bad_reviews)\n",
        "print(\"\\n\")"
      ],
      "metadata": {
        "colab": {
          "base_uri": "https://localhost:8080/"
        },
        "id": "gEEULh8MXkCX",
        "outputId": "0845491e-cf6b-4d59-e71e-abc732a0d3b6"
      },
      "execution_count": null,
      "outputs": [
        {
          "output_type": "stream",
          "name": "stdout",
          "text": [
            "Topic: 0 \n",
            "Words: 0.012*\"website\" + 0.012*\"course\" + 0.012*\"issue\" + 0.010*\"support\" + 0.010*\"time\" + 0.007*\"tried\" + 0.006*\"error\" + 0.006*\"mode\" + 0.006*\"good\" + 0.005*\"phone\"\n",
            "\n",
            "\n",
            "Topic: 1 \n",
            "Words: 0.044*\"course\" + 0.024*\"video\" + 0.019*\"load\" + 0.015*\"crash\" + 0.013*\"time\" + 0.013*\"good\" + 0.012*\"connection\" + 0.012*\"internet\" + 0.010*\"coursera\" + 0.010*\"work\"\n",
            "\n",
            "\n",
            "Topic: 2 \n",
            "Words: 0.040*\"course\" + 0.015*\"support\" + 0.012*\"coursera\" + 0.010*\"screen\" + 0.009*\"experience\" + 0.009*\"access\" + 0.008*\"service\" + 0.008*\"customer\" + 0.008*\"worst\" + 0.008*\"video\"\n",
            "\n",
            "\n",
            "Topic: 3 \n",
            "Words: 0.039*\"video\" + 0.020*\"course\" + 0.015*\"internet\" + 0.013*\"screen\" + 0.011*\"connection\" + 0.011*\"assignment\" + 0.009*\"download\" + 0.008*\"coursera\" + 0.008*\"account\" + 0.008*\"time\"\n",
            "\n",
            "\n",
            "Topic: 4 \n",
            "Words: 0.034*\"course\" + 0.016*\"coursera\" + 0.013*\"time\" + 0.012*\"work\" + 0.011*\"video\" + 0.010*\"certificate\" + 0.009*\"refund\" + 0.008*\"phone\" + 0.008*\"update\" + 0.007*\"subscription\"\n",
            "\n",
            "\n",
            "Topic: 5 \n",
            "Words: 0.020*\"course\" + 0.018*\"time\" + 0.014*\"connection\" + 0.012*\"error\" + 0.011*\"email\" + 0.009*\"issue\" + 0.008*\"certificate\" + 0.008*\"correct\" + 0.007*\"waste\" + 0.007*\"password\"\n",
            "\n",
            "\n",
            "Topic: 6 \n",
            "Words: 0.039*\"course\" + 0.015*\"time\" + 0.014*\"certificate\" + 0.009*\"slow\" + 0.009*\"account\" + 0.008*\"completed\" + 0.008*\"verification\" + 0.007*\"bug\" + 0.007*\"getting\" + 0.007*\"coursera\"\n",
            "\n",
            "\n",
            "\n",
            "\n"
          ]
        }
      ]
    },
    {
      "cell_type": "markdown",
      "source": [
        "*  Topic-1  Poor quality of vedios\n",
        "*  Topic-2 Internet connection issues\n",
        "*  Topic-3 More Time taking for downloading\n",
        "*  Topic-4 eMail recieving issues\n",
        "*  Topic-5  Poor quality certificate\n",
        "*  Topic-6 Time taking for recieving the certificate"
      ],
      "metadata": {
        "id": "zEjxIKPA_x0q"
      }
    },
    {
      "cell_type": "code",
      "source": [
        "plot(app5data)"
      ],
      "metadata": {
        "colab": {
          "base_uri": "https://localhost:8080/"
        },
        "id": "UznSf4S4UzR8",
        "outputId": "1f5c8dae-10fe-42a7-8ac6-24374d0b2a16"
      },
      "execution_count": null,
      "outputs": [
        {
          "output_type": "stream",
          "name": "stderr",
          "text": [
            "/usr/local/lib/python3.7/dist-packages/seaborn/_decorators.py:43: FutureWarning: Pass the following variable as a keyword arg: x. From version 0.12, the only valid positional argument will be `data`, and passing other arguments without an explicit keyword will result in an error or misinterpretation.\n",
            "  FutureWarning\n"
          ]
        },
        {
          "output_type": "display_data",
          "data": {
            "text/plain": [
              "<Figure size 432x288 with 1 Axes>"
            ],
            "image/png": "[encoded data removed]"
          },
          "metadata": {
            "needs_background": "light"
          }
        }
      ]
    },
    {
      "cell_type": "markdown",
      "source": [
        "##APP6"
      ],
      "metadata": {
        "id": "WgzOQrx9WWjY"
      }
    },
    {
      "cell_type": "code",
      "source": [
        "app6data= pd.read_excel('/content/Diksha (1).xlsx')\n",
        "app6data_bad_reviews= app6data.loc[app6data.score==1]\n",
        "printing_topics(app6data_bad_reviews)\n",
        "print(\"\\n\")"
      ],
      "metadata": {
        "colab": {
          "base_uri": "https://localhost:8080/"
        },
        "id": "60nrEGwiX1bP",
        "outputId": "548c8c43-7f93-4f17-d412-a29ba85175d3"
      },
      "execution_count": null,
      "outputs": [
        {
          "output_type": "stream",
          "name": "stdout",
          "text": [
            "Topic: 0 \n",
            "Words: 0.033*\"video\" + 0.024*\"login\" + 0.016*\"tried\" + 0.015*\"course\" + 0.014*\"time\" + 0.012*\"teacher\" + 0.012*\"open\" + 0.011*\"password\" + 0.010*\"state\" + 0.010*\"worst\"\n",
            "\n",
            "\n",
            "Topic: 1 \n",
            "Words: 0.064*\"course\" + 0.047*\"certificate\" + 0.033*\"completed\" + 0.025*\"download\" + 0.020*\"show\" + 0.015*\"problem\" + 0.012*\"completion\" + 0.011*\"issue\" + 0.009*\"complete\" + 0.008*\"training\"\n",
            "\n",
            "\n",
            "Topic: 2 \n",
            "Words: 0.035*\"time\" + 0.014*\"module\" + 0.013*\"open\" + 0.013*\"worst\" + 0.012*\"option\" + 0.011*\"problem\" + 0.010*\"properly\" + 0.009*\"issue\" + 0.009*\"working\" + 0.009*\"take\"\n",
            "\n",
            "\n",
            "Topic: 3 \n",
            "Words: 0.034*\"course\" + 0.025*\"time\" + 0.024*\"page\" + 0.018*\"open\" + 0.015*\"start\" + 0.015*\"work\" + 0.014*\"application\" + 0.014*\"login\" + 0.013*\"properly\" + 0.013*\"update\"\n",
            "\n",
            "\n",
            "Topic: 4 \n",
            "Words: 0.026*\"course\" + 0.021*\"problem\" + 0.017*\"showing\" + 0.016*\"time\" + 0.015*\"completed\" + 0.015*\"content\" + 0.012*\"certificate\" + 0.010*\"worst\" + 0.010*\"user\" + 0.009*\"available\"\n",
            "\n",
            "\n",
            "Topic: 5 \n",
            "Words: 0.029*\"content\" + 0.029*\"training\" + 0.027*\"course\" + 0.026*\"video\" + 0.025*\"complete\" + 0.020*\"time\" + 0.018*\"showing\" + 0.017*\"issue\" + 0.015*\"completed\" + 0.013*\"module\"\n",
            "\n",
            "\n",
            "Topic: 6 \n",
            "Words: 0.034*\"video\" + 0.025*\"course\" + 0.015*\"problem\" + 0.014*\"training\" + 0.013*\"play\" + 0.012*\"teacher\" + 0.011*\"complete\" + 0.011*\"able\" + 0.010*\"issue\" + 0.010*\"server\"\n",
            "\n",
            "\n",
            "\n",
            "\n"
          ]
        }
      ]
    },
    {
      "cell_type": "markdown",
      "source": [
        "*  Topic-1  Login Issues\n",
        "*  Topic-2  Certificate Downlading problem\n",
        "*  Topic-3  Time taking for module loading\n",
        "*  Topic-4   Problem  in showing the amount of content completed\n",
        "*  Topic-5  Server Issues\n"
      ],
      "metadata": {
        "id": "7exRl7anCAfT"
      }
    },
    {
      "cell_type": "code",
      "source": [
        "plot(app6data)"
      ],
      "metadata": {
        "colab": {
          "base_uri": "https://localhost:8080/"
        },
        "id": "wS7TFLroU2F3",
        "outputId": "7792d9d2-90de-42c2-b220-c6676424273c"
      },
      "execution_count": null,
      "outputs": [
        {
          "output_type": "stream",
          "name": "stderr",
          "text": [
            "/usr/local/lib/python3.7/dist-packages/seaborn/_decorators.py:43: FutureWarning: Pass the following variable as a keyword arg: x. From version 0.12, the only valid positional argument will be `data`, and passing other arguments without an explicit keyword will result in an error or misinterpretation.\n",
            "  FutureWarning\n"
          ]
        },
        {
          "output_type": "display_data",
          "data": {
            "text/plain": [
              "<Figure size 432x288 with 1 Axes>"
            ],
            "image/png": "[encoded data removed]"
          },
          "metadata": {
            "needs_background": "light"
          }
        }
      ]
    },
    {
      "cell_type": "markdown",
      "source": [
        "##APP7"
      ],
      "metadata": {
        "id": "LDhWWfKIWX2v"
      }
    },
    {
      "cell_type": "code",
      "source": [
        "app7data= pd.read_excel('/content/DoubtNut.xlsx')\n",
        "app7data_bad_reviews= app7data.loc[app7data.score==1]\n",
        "printing_topics(app7data_bad_reviews)\n",
        "print(\"\\n\")"
      ],
      "metadata": {
        "colab": {
          "base_uri": "https://localhost:8080/"
        },
        "id": "8zWLxCC5X38F",
        "outputId": "d5460159-0f38-402a-dd14-1be45a0fc20c"
      },
      "execution_count": null,
      "outputs": [
        {
          "output_type": "stream",
          "name": "stdout",
          "text": [
            "Topic: 0 \n",
            "Words: 0.021*\"phone\" + 0.013*\"time\" + 0.012*\"show\" + 0.012*\"notification\" + 0.010*\"internet\" + 0.010*\"working\" + 0.009*\"option\" + 0.009*\"load\" + 0.008*\"star\" + 0.008*\"page\"\n",
            "\n",
            "\n",
            "Topic: 1 \n",
            "Words: 0.029*\"solution\" + 0.022*\"question\" + 0.019*\"good\" + 0.018*\"time\" + 0.018*\"video\" + 0.014*\"worst\" + 0.013*\"notification\" + 0.012*\"like\" + 0.011*\"class\" + 0.011*\"problem\"\n",
            "\n",
            "\n",
            "Topic: 2 \n",
            "Words: 0.028*\"problem\" + 0.027*\"question\" + 0.019*\"doubt\" + 0.017*\"doubtnut\" + 0.016*\"answer\" + 0.011*\"worst\" + 0.011*\"student\" + 0.011*\"language\" + 0.010*\"good\" + 0.010*\"course\"\n",
            "\n",
            "\n",
            "Topic: 3 \n",
            "Words: 0.036*\"time\" + 0.023*\"video\" + 0.012*\"answer\" + 0.012*\"student\" + 0.012*\"notification\" + 0.012*\"showing\" + 0.012*\"wrong\" + 0.011*\"loading\" + 0.011*\"went\" + 0.009*\"question\"\n",
            "\n",
            "\n",
            "Topic: 4 \n",
            "Words: 0.055*\"question\" + 0.031*\"answer\" + 0.016*\"solution\" + 0.013*\"time\" + 0.011*\"search\" + 0.011*\"option\" + 0.011*\"like\" + 0.011*\"video\" + 0.009*\"study\" + 0.009*\"properly\"\n",
            "\n",
            "\n",
            "Topic: 5 \n",
            "Words: 0.036*\"solution\" + 0.029*\"video\" + 0.027*\"time\" + 0.020*\"data\" + 0.019*\"good\" + 0.014*\"worst\" + 0.012*\"student\" + 0.012*\"waste\" + 0.011*\"class\" + 0.011*\"answer\"\n",
            "\n",
            "\n",
            "Topic: 6 \n",
            "Words: 0.034*\"video\" + 0.034*\"problem\" + 0.015*\"worst\" + 0.013*\"doubt\" + 0.013*\"answer\" + 0.013*\"good\" + 0.011*\"notification\" + 0.010*\"option\" + 0.010*\"data\" + 0.009*\"time\"\n",
            "\n",
            "\n",
            "\n",
            "\n"
          ]
        }
      ]
    },
    {
      "cell_type": "markdown",
      "source": [
        "*  Topic-1  Loading Notificartion issues\n",
        "*  Topic-2  Showing more notifications\n",
        "*  Topic-3  No language option\n",
        "*  Topic-4  Giving notification for the some problem solved a long ago\n",
        "*  Topic-5  Searching time more\n",
        "*   Topic-6  Vedio Solutions only present, not text solutions\n",
        "*  Topic-7  No proper solution suggestions"
      ],
      "metadata": {
        "id": "4BYujBYdNzbv"
      }
    },
    {
      "cell_type": "code",
      "source": [
        "plot(app7data)"
      ],
      "metadata": {
        "colab": {
          "base_uri": "https://localhost:8080/"
        },
        "id": "prFXIR_RU5V8",
        "outputId": "26f00cd1-60b6-4f4c-ba6e-a701b1dc3e0c"
      },
      "execution_count": null,
      "outputs": [
        {
          "output_type": "stream",
          "name": "stderr",
          "text": [
            "/usr/local/lib/python3.7/dist-packages/seaborn/_decorators.py:43: FutureWarning: Pass the following variable as a keyword arg: x. From version 0.12, the only valid positional argument will be `data`, and passing other arguments without an explicit keyword will result in an error or misinterpretation.\n",
            "  FutureWarning\n"
          ]
        },
        {
          "output_type": "display_data",
          "data": {
            "text/plain": [
              "<Figure size 432x288 with 1 Axes>"
            ],
            "image/png": "[encoded data removed]"
          },
          "metadata": {
            "needs_background": "light"
          }
        }
      ]
    },
    {
      "cell_type": "markdown",
      "source": [
        "##APP8"
      ],
      "metadata": {
        "id": "E-a9zKr_WbfE"
      }
    },
    {
      "cell_type": "code",
      "source": [
        "app8data= pd.read_excel('/content/Duolingo.xlsx')\n",
        "app8data_bad_reviews= app8data.loc[app8data.score==1]\n",
        "printing_topics(app8data_bad_reviews)\n",
        "print(\"\\n\")"
      ],
      "metadata": {
        "colab": {
          "base_uri": "https://localhost:8080/"
        },
        "id": "8i0xr0BsYEug",
        "outputId": "86b0f53b-19b4-486b-ab4f-2ce00c0d4f53"
      },
      "execution_count": null,
      "outputs": [
        {
          "output_type": "stream",
          "name": "stdout",
          "text": [
            "Topic: 0 \n",
            "Words: 0.017*\"freeze\" + 0.017*\"streak\" + 0.011*\"great\" + 0.011*\"money\" + 0.011*\"duolingo\" + 0.011*\"exercise\" + 0.011*\"wrong\" + 0.011*\"completely\" + 0.011*\"broken\" + 0.011*\"learning\"\n",
            "\n",
            "\n",
            "Topic: 1 \n",
            "Words: 0.023*\"time\" + 0.018*\"heart\" + 0.018*\"language\" + 0.018*\"learning\" + 0.015*\"lesson\" + 0.015*\"update\" + 0.010*\"star\" + 0.010*\"wrong\" + 0.008*\"slow\" + 0.008*\"spanish\"\n",
            "\n",
            "\n",
            "Topic: 2 \n",
            "Words: 0.020*\"mistake\" + 0.013*\"duolingo\" + 0.013*\"learning\" + 0.013*\"error\" + 0.013*\"number\" + 0.013*\"model\" + 0.013*\"deleting\" + 0.007*\"subscription\" + 0.007*\"start\" + 0.007*\"level\"\n",
            "\n",
            "\n",
            "Topic: 3 \n",
            "Words: 0.021*\"language\" + 0.018*\"learning\" + 0.018*\"mistake\" + 0.014*\"correct\" + 0.011*\"great\" + 0.011*\"offline\" + 0.011*\"time\" + 0.007*\"making\" + 0.007*\"instead\" + 0.007*\"typo\"\n",
            "\n",
            "\n",
            "Topic: 4 \n",
            "Words: 0.020*\"learning\" + 0.011*\"making\" + 0.011*\"sentence\" + 0.011*\"language\" + 0.011*\"button\" + 0.011*\"life\" + 0.011*\"mistake\" + 0.011*\"word\" + 0.006*\"having\" + 0.006*\"annoying\"\n",
            "\n",
            "\n",
            "Topic: 5 \n",
            "Words: 0.039*\"word\" + 0.015*\"learn\" + 0.015*\"time\" + 0.015*\"user\" + 0.015*\"learning\" + 0.011*\"think\" + 0.011*\"practice\" + 0.011*\"function\" + 0.011*\"exercise\" + 0.011*\"plus\"\n",
            "\n",
            "\n",
            "Topic: 6 \n",
            "Words: 0.025*\"time\" + 0.020*\"learn\" + 0.020*\"language\" + 0.017*\"lesson\" + 0.017*\"wrong\" + 0.014*\"year\" + 0.009*\"premium\" + 0.009*\"answer\" + 0.009*\"phrase\" + 0.009*\"repetitive\"\n",
            "\n",
            "\n",
            "\n",
            "\n"
          ]
        }
      ]
    },
    {
      "cell_type": "markdown",
      "source": [
        "*  Topic-1  Screen Freezing\n",
        "*  Topic-2  Unable to find spanish Language\n",
        "*  Topic-3  Payment deleted issues\n",
        "*  Topic-4  Correcting mistakes well\n",
        "*  Topic-5   Mistake in making words form sentences\n",
        "*  Topic-6  Good practice along with learning"
      ],
      "metadata": {
        "id": "003pcvMDPAMw"
      }
    },
    {
      "cell_type": "code",
      "source": [
        "plot(app8data)"
      ],
      "metadata": {
        "colab": {
          "base_uri": "https://localhost:8080/"
        },
        "id": "QCafhPBxU86a",
        "outputId": "8b1745bd-3272-4be8-90a4-cd28a5253af9"
      },
      "execution_count": null,
      "outputs": [
        {
          "output_type": "stream",
          "name": "stderr",
          "text": [
            "/usr/local/lib/python3.7/dist-packages/seaborn/_decorators.py:43: FutureWarning: Pass the following variable as a keyword arg: x. From version 0.12, the only valid positional argument will be `data`, and passing other arguments without an explicit keyword will result in an error or misinterpretation.\n",
            "  FutureWarning\n"
          ]
        },
        {
          "output_type": "display_data",
          "data": {
            "text/plain": [
              "<Figure size 432x288 with 1 Axes>"
            ],
            "image/png": "[encoded data removed]"
          },
          "metadata": {
            "needs_background": "light"
          }
        }
      ]
    },
    {
      "cell_type": "markdown",
      "source": [
        "##APP9"
      ],
      "metadata": {
        "id": "HQlJ1cjmWcev"
      }
    },
    {
      "cell_type": "code",
      "source": [
        "app9data= pd.read_excel('/content/EMBIBE.xlsx')\n",
        "app9data_bad_reviews= app9data.loc[app9data.score==1]\n",
        "printing_topics(app9data_bad_reviews)\n",
        "print(\"\\n\")"
      ],
      "metadata": {
        "colab": {
          "base_uri": "https://localhost:8080/"
        },
        "id": "Sq02GtAiYMfP",
        "outputId": "6d501380-3013-49ce-bfc6-0fa46994808f"
      },
      "execution_count": null,
      "outputs": [
        {
          "output_type": "stream",
          "name": "stdout",
          "text": [
            "Topic: 0 \n",
            "Words: 0.016*\"class\" + 0.016*\"worst\" + 0.016*\"sign\" + 0.016*\"change\" + 0.011*\"phone\" + 0.011*\"science\" + 0.011*\"good\" + 0.011*\"want\" + 0.011*\"content\" + 0.011*\"study\"\n",
            "\n",
            "\n",
            "Topic: 1 \n",
            "Words: 0.040*\"download\" + 0.040*\"waste\" + 0.027*\"time\" + 0.021*\"test\" + 0.021*\"like\" + 0.014*\"worst\" + 0.014*\"bug\" + 0.014*\"completed\" + 0.014*\"useless\" + 0.008*\"class\"\n",
            "\n",
            "\n",
            "Topic: 2 \n",
            "Words: 0.021*\"sign\" + 0.021*\"trying\" + 0.021*\"hate\" + 0.014*\"like\" + 0.014*\"problem\" + 0.014*\"minute\" + 0.014*\"unable\" + 0.014*\"data\" + 0.014*\"book\" + 0.014*\"take\"\n",
            "\n",
            "\n",
            "Topic: 3 \n",
            "Words: 0.037*\"english\" + 0.037*\"hindi\" + 0.030*\"language\" + 0.023*\"work\" + 0.019*\"tried\" + 0.015*\"learning\" + 0.015*\"login\" + 0.015*\"science\" + 0.015*\"subject\" + 0.015*\"remain\"\n",
            "\n",
            "\n",
            "Topic: 4 \n",
            "Words: 0.035*\"time\" + 0.022*\"showing\" + 0.018*\"question\" + 0.018*\"password\" + 0.016*\"tried\" + 0.013*\"test\" + 0.013*\"working\" + 0.013*\"install\" + 0.013*\"number\" + 0.013*\"character\"\n",
            "\n",
            "\n",
            "Topic: 5 \n",
            "Words: 0.025*\"sign\" + 0.019*\"access\" + 0.013*\"student\" + 0.013*\"working\" + 0.013*\"trying\" + 0.013*\"problem\" + 0.013*\"time\" + 0.013*\"topic\" + 0.013*\"able\" + 0.013*\"humanity\"\n",
            "\n",
            "\n",
            "Topic: 6 \n",
            "Words: 0.047*\"video\" + 0.018*\"issue\" + 0.018*\"lagging\" + 0.018*\"password\" + 0.018*\"annoying\" + 0.018*\"language\" + 0.018*\"hindi\" + 0.012*\"worst\" + 0.012*\"good\" + 0.012*\"internet\"\n",
            "\n",
            "\n",
            "\n",
            "\n"
          ]
        }
      ]
    },
    {
      "cell_type": "markdown",
      "source": [
        "*  Topic-1  Less study content\n",
        "*  Topic-2   Felt Useless due to bugs\n",
        "*  Topic-3  Less time for problem solving\n",
        "*  Topic-4   All learning subjects like science not available\n",
        "*  Topic-5  Number of characters in password issue\n",
        "*  Topic-6  Vedio lagging issues\n"
      ],
      "metadata": {
        "id": "0yd_0ZN5Qpjf"
      }
    },
    {
      "cell_type": "code",
      "source": [
        "plot(app9data)"
      ],
      "metadata": {
        "colab": {
          "base_uri": "https://localhost:8080/"
        },
        "id": "EO5vfzlLU_3i",
        "outputId": "fe362106-7af3-4553-dd66-eb3d4e3f6761"
      },
      "execution_count": null,
      "outputs": [
        {
          "output_type": "stream",
          "name": "stderr",
          "text": [
            "/usr/local/lib/python3.7/dist-packages/seaborn/_decorators.py:43: FutureWarning: Pass the following variable as a keyword arg: x. From version 0.12, the only valid positional argument will be `data`, and passing other arguments without an explicit keyword will result in an error or misinterpretation.\n",
            "  FutureWarning\n"
          ]
        },
        {
          "output_type": "display_data",
          "data": {
            "text/plain": [
              "<Figure size 432x288 with 1 Axes>"
            ],
            "image/png": "[encoded data removed]"
          },
          "metadata": {
            "needs_background": "light"
          }
        }
      ]
    },
    {
      "cell_type": "markdown",
      "source": [
        "##APP10"
      ],
      "metadata": {
        "id": "0y1rkPD2Wd4N"
      }
    },
    {
      "cell_type": "code",
      "source": [
        "app10data= pd.read_excel('/content/Eduauraa.xlsx')\n",
        "app10data_bad_reviews= app10data.loc[app10data.score==1]\n",
        "printing_topics(app10data_bad_reviews)\n",
        "print(\"\\n\")"
      ],
      "metadata": {
        "colab": {
          "base_uri": "https://localhost:8080/"
        },
        "id": "M7i4gS3Ta_1b",
        "outputId": "d99f3a17-f3e5-45ce-f54b-458e5890ac94"
      },
      "execution_count": null,
      "outputs": [
        {
          "output_type": "stream",
          "name": "stdout",
          "text": [
            "Topic: 0 \n",
            "Words: 0.033*\"subscription\" + 0.030*\"waste\" + 0.023*\"download\" + 0.020*\"time\" + 0.020*\"star\" + 0.017*\"data\" + 0.017*\"education\" + 0.014*\"register\" + 0.014*\"class\" + 0.014*\"video\"\n",
            "\n",
            "\n",
            "Topic: 1 \n",
            "Words: 0.044*\"worst\" + 0.030*\"money\" + 0.025*\"study\" + 0.020*\"video\" + 0.015*\"time\" + 0.015*\"education\" + 0.015*\"subscription\" + 0.010*\"number\" + 0.010*\"wrong\" + 0.010*\"good\"\n",
            "\n",
            "\n",
            "Topic: 2 \n",
            "Words: 0.027*\"application\" + 0.022*\"experience\" + 0.022*\"money\" + 0.021*\"worst\" + 0.016*\"like\" + 0.016*\"day\" + 0.016*\"free\" + 0.011*\"thing\" + 0.011*\"option\" + 0.011*\"math\"\n",
            "\n",
            "\n",
            "Topic: 3 \n",
            "Words: 0.029*\"register\" + 0.022*\"free\" + 0.022*\"content\" + 0.022*\"able\" + 0.015*\"education\" + 0.015*\"fake\" + 0.015*\"think\" + 0.015*\"company\" + 0.015*\"poor\" + 0.015*\"people\"\n",
            "\n",
            "\n",
            "Topic: 4 \n",
            "Words: 0.077*\"class\" + 0.026*\"open\" + 0.026*\"student\" + 0.026*\"medium\" + 0.020*\"change\" + 0.020*\"hindi\" + 0.014*\"install\" + 0.014*\"dont\" + 0.014*\"free\" + 0.014*\"high\"\n",
            "\n",
            "\n",
            "Topic: 5 \n",
            "Words: 0.027*\"time\" + 0.018*\"install\" + 0.018*\"class\" + 0.018*\"good\" + 0.014*\"tried\" + 0.014*\"subject\" + 0.014*\"bhai\" + 0.014*\"teacher\" + 0.009*\"work\" + 0.009*\"dont\"\n",
            "\n",
            "\n",
            "Topic: 6 \n",
            "Words: 0.031*\"good\" + 0.026*\"video\" + 0.021*\"available\" + 0.016*\"install\" + 0.016*\"education\" + 0.016*\"registered\" + 0.016*\"say\" + 0.016*\"free\" + 0.011*\"right\" + 0.011*\"worst\"\n",
            "\n",
            "\n",
            "\n",
            "\n"
          ]
        }
      ]
    },
    {
      "cell_type": "markdown",
      "source": [
        "*   Topic-1  Waste of Subscription money\n",
        "*  Topic-2   Time taking for vedio \n",
        "*  Topic-3   Content available without registration also\n",
        "*  Topic-4  Felt Fake\n",
        "*  Topic-5  Good Vedio "
      ],
      "metadata": {
        "id": "VqheX4trSRqE"
      }
    },
    {
      "cell_type": "code",
      "source": [
        "plot(app10data)"
      ],
      "metadata": {
        "colab": {
          "base_uri": "https://localhost:8080/"
        },
        "id": "z7snsws6VCsu",
        "outputId": "0d31123c-59ae-46f8-90ac-5e7fc11edf25"
      },
      "execution_count": null,
      "outputs": [
        {
          "output_type": "stream",
          "name": "stderr",
          "text": [
            "/usr/local/lib/python3.7/dist-packages/seaborn/_decorators.py:43: FutureWarning: Pass the following variable as a keyword arg: x. From version 0.12, the only valid positional argument will be `data`, and passing other arguments without an explicit keyword will result in an error or misinterpretation.\n",
            "  FutureWarning\n"
          ]
        },
        {
          "output_type": "display_data",
          "data": {
            "text/plain": [
              "<Figure size 432x288 with 1 Axes>"
            ],
            "image/png": "[encoded data removed]"
          },
          "metadata": {
            "needs_background": "light"
          }
        }
      ]
    },
    {
      "cell_type": "markdown",
      "source": [
        "##APP11"
      ],
      "metadata": {
        "id": "hw9_8HrdWfQS"
      }
    },
    {
      "cell_type": "code",
      "source": [
        "app11data= pd.read_excel('/content/Epic (1).xlsx')\n",
        "app11data_bad_reviews= app11data.loc[app11data.score==1]\n",
        "printing_topics(app11data_bad_reviews)\n",
        "print(\"\\n\")"
      ],
      "metadata": {
        "colab": {
          "base_uri": "https://localhost:8080/"
        },
        "id": "kn-LaDjJbHJ3",
        "outputId": "1417684c-3ad2-4f05-f056-39fb02214ceb"
      },
      "execution_count": null,
      "outputs": [
        {
          "output_type": "stream",
          "name": "stdout",
          "text": [
            "Topic: 0 \n",
            "Words: 0.025*\"subscription\" + 0.019*\"tried\" + 0.016*\"epic\" + 0.016*\"cancel\" + 0.015*\"account\" + 0.015*\"membership\" + 0.013*\"paid\" + 0.011*\"service\" + 0.010*\"email\" + 0.010*\"school\"\n",
            "\n",
            "\n",
            "Topic: 1 \n",
            "Words: 0.057*\"book\" + 0.032*\"read\" + 0.016*\"time\" + 0.015*\"free\" + 0.013*\"like\" + 0.012*\"account\" + 0.011*\"work\" + 0.011*\"want\" + 0.008*\"sign\" + 0.008*\"month\"\n",
            "\n",
            "\n",
            "Topic: 2 \n",
            "Words: 0.023*\"account\" + 0.023*\"time\" + 0.020*\"email\" + 0.017*\"reading\" + 0.011*\"book\" + 0.011*\"kid\" + 0.011*\"tried\" + 0.010*\"epic\" + 0.009*\"school\" + 0.008*\"level\"\n",
            "\n",
            "\n",
            "Topic: 3 \n",
            "Words: 0.029*\"epic\" + 0.017*\"read\" + 0.017*\"subscription\" + 0.014*\"unlimited\" + 0.012*\"account\" + 0.012*\"access\" + 0.012*\"page\" + 0.011*\"need\" + 0.010*\"month\" + 0.010*\"support\"\n",
            "\n",
            "\n",
            "Topic: 4 \n",
            "Words: 0.055*\"book\" + 0.029*\"read\" + 0.014*\"epic\" + 0.012*\"time\" + 0.011*\"kid\" + 0.011*\"membership\" + 0.011*\"parent\" + 0.010*\"thing\" + 0.009*\"reading\" + 0.008*\"page\"\n",
            "\n",
            "\n",
            "Topic: 5 \n",
            "Words: 0.028*\"cancel\" + 0.026*\"subscription\" + 0.022*\"service\" + 0.021*\"customer\" + 0.019*\"month\" + 0.014*\"charged\" + 0.013*\"google\" + 0.012*\"trial\" + 0.012*\"account\" + 0.012*\"card\"\n",
            "\n",
            "\n",
            "Topic: 6 \n",
            "Words: 0.046*\"subscription\" + 0.018*\"month\" + 0.016*\"book\" + 0.014*\"read\" + 0.013*\"paid\" + 0.013*\"free\" + 0.013*\"cancel\" + 0.011*\"trial\" + 0.011*\"kid\" + 0.010*\"google\"\n",
            "\n",
            "\n",
            "\n",
            "\n"
          ]
        }
      ]
    },
    {
      "cell_type": "markdown",
      "source": [
        "*  Topic-1   Payment related issues\n",
        "*  Topic-2   More free time\n",
        "*  Topic-3  Login related issue\n",
        "*  Topic-4 Freely available but did payment \n",
        "*  Topic-5 Unlimited access\n",
        "*  Topic-6  Amount paid for trail period also"
      ],
      "metadata": {
        "id": "dV-40ZgXXWJV"
      }
    },
    {
      "cell_type": "code",
      "source": [
        "plot(app11data)"
      ],
      "metadata": {
        "colab": {
          "base_uri": "https://localhost:8080/"
        },
        "id": "VesAX9y3VF_x",
        "outputId": "4cd59ff7-b1f6-47a8-d723-c6e5d6ae5fd2"
      },
      "execution_count": null,
      "outputs": [
        {
          "output_type": "stream",
          "name": "stderr",
          "text": [
            "/usr/local/lib/python3.7/dist-packages/seaborn/_decorators.py:43: FutureWarning: Pass the following variable as a keyword arg: x. From version 0.12, the only valid positional argument will be `data`, and passing other arguments without an explicit keyword will result in an error or misinterpretation.\n",
            "  FutureWarning\n"
          ]
        },
        {
          "output_type": "display_data",
          "data": {
            "text/plain": [
              "<Figure size 432x288 with 1 Axes>"
            ],
            "image/png": "[encoded data removed]"
          },
          "metadata": {
            "needs_background": "light"
          }
        }
      ]
    },
    {
      "cell_type": "markdown",
      "source": [
        "##APP12"
      ],
      "metadata": {
        "id": "5rSTSj-nWgVr"
      }
    },
    {
      "cell_type": "code",
      "source": [
        "app12data= pd.read_excel('/content/ExtraMarks (1).xlsx')\n",
        "app12data_bad_reviews= app12data.loc[app12data.score==1]\n",
        "printing_topics(app12data_bad_reviews)\n",
        "print(\"\\n\")"
      ],
      "metadata": {
        "colab": {
          "base_uri": "https://localhost:8080/"
        },
        "id": "ow-hBTJhbN3q",
        "outputId": "cd8de70c-dc73-4bbe-d17c-3a342038a541"
      },
      "execution_count": null,
      "outputs": [
        {
          "output_type": "stream",
          "name": "stdout",
          "text": [
            "Topic: 0 \n",
            "Words: 0.021*\"class\" + 0.016*\"waste\" + 0.014*\"problem\" + 0.012*\"learning\" + 0.009*\"experience\" + 0.009*\"board\" + 0.009*\"say\" + 0.009*\"tried\" + 0.007*\"fraud\" + 0.007*\"said\"\n",
            "\n",
            "\n",
            "Topic: 1 \n",
            "Words: 0.028*\"worst\" + 0.025*\"time\" + 0.021*\"password\" + 0.018*\"open\" + 0.012*\"show\" + 0.012*\"question\" + 0.009*\"number\" + 0.009*\"subscription\" + 0.009*\"attempted\" + 0.009*\"install\"\n",
            "\n",
            "\n",
            "Topic: 2 \n",
            "Words: 0.020*\"properly\" + 0.020*\"problem\" + 0.013*\"answer\" + 0.013*\"help\" + 0.013*\"need\" + 0.013*\"speed\" + 0.012*\"screen\" + 0.009*\"password\" + 0.009*\"wrong\" + 0.009*\"application\"\n",
            "\n",
            "\n",
            "Topic: 3 \n",
            "Words: 0.032*\"time\" + 0.023*\"good\" + 0.020*\"content\" + 0.015*\"issue\" + 0.012*\"want\" + 0.012*\"video\" + 0.010*\"properly\" + 0.009*\"working\" + 0.009*\"version\" + 0.009*\"understand\"\n",
            "\n",
            "\n",
            "Topic: 4 \n",
            "Words: 0.027*\"time\" + 0.018*\"click\" + 0.018*\"worst\" + 0.014*\"class\" + 0.014*\"slide\" + 0.010*\"problem\" + 0.010*\"work\" + 0.010*\"school\" + 0.010*\"money\" + 0.009*\"want\"\n",
            "\n",
            "\n",
            "Topic: 5 \n",
            "Words: 0.034*\"login\" + 0.029*\"showing\" + 0.018*\"time\" + 0.018*\"password\" + 0.015*\"correct\" + 0.013*\"problem\" + 0.012*\"tried\" + 0.011*\"worst\" + 0.011*\"option\" + 0.010*\"wrong\"\n",
            "\n",
            "\n",
            "Topic: 6 \n",
            "Words: 0.043*\"password\" + 0.018*\"issue\" + 0.014*\"enter\" + 0.012*\"user\" + 0.011*\"character\" + 0.011*\"extramarks\" + 0.011*\"mark\" + 0.011*\"like\" + 0.008*\"error\" + 0.008*\"concept\"\n",
            "\n",
            "\n",
            "\n",
            "\n"
          ]
        }
      ]
    },
    {
      "cell_type": "markdown",
      "source": [
        "* Topic-1   Trust realted issues, Felt Fraud\n",
        "*  Topic-2  Attempted install\n",
        "* Topic-3 Speed less between webpages\n",
        "* Topic-4  Want vedio content more \n",
        "* Topic-5  Problem in presenting slides\n",
        "* Topic-6  Showing correct password even when wrong password is entered \n"
      ],
      "metadata": {
        "id": "1bfmee1rZC9F"
      }
    },
    {
      "cell_type": "code",
      "source": [
        "plot(app12data)"
      ],
      "metadata": {
        "colab": {
          "base_uri": "https://localhost:8080/"
        },
        "id": "dzkywNO-VIm6",
        "outputId": "00736698-c499-43e2-c88e-090b3c131976"
      },
      "execution_count": null,
      "outputs": [
        {
          "output_type": "stream",
          "name": "stderr",
          "text": [
            "/usr/local/lib/python3.7/dist-packages/seaborn/_decorators.py:43: FutureWarning: Pass the following variable as a keyword arg: x. From version 0.12, the only valid positional argument will be `data`, and passing other arguments without an explicit keyword will result in an error or misinterpretation.\n",
            "  FutureWarning\n"
          ]
        },
        {
          "output_type": "display_data",
          "data": {
            "text/plain": [
              "<Figure size 432x288 with 1 Axes>"
            ],
            "image/png": "[encoded data removed]"
          },
          "metadata": {
            "needs_background": "light"
          }
        }
      ]
    },
    {
      "cell_type": "markdown",
      "source": [
        "##APP13"
      ],
      "metadata": {
        "id": "oURGXoS6Whgv"
      }
    },
    {
      "cell_type": "code",
      "source": [
        "app13data= pd.read_excel('/content/GreatLearning.xlsx')\n",
        "app13data_bad_reviews= app13data.loc[app13data.score==1]\n",
        "printing_topics(app13data_bad_reviews)\n",
        "print(\"\\n\")"
      ],
      "metadata": {
        "colab": {
          "base_uri": "https://localhost:8080/"
        },
        "id": "yJkuJMzIbX8u",
        "outputId": "ca3a4d49-3f19-48e6-8120-6238454ea916"
      },
      "execution_count": null,
      "outputs": [
        {
          "output_type": "stream",
          "name": "stdout",
          "text": [
            "Topic: 0 \n",
            "Words: 0.035*\"video\" + 0.021*\"sign\" + 0.012*\"work\" + 0.011*\"good\" + 0.009*\"option\" + 0.009*\"review\" + 0.009*\"experience\" + 0.009*\"number\" + 0.009*\"phone\" + 0.009*\"unable\"\n",
            "\n",
            "\n",
            "Topic: 1 \n",
            "Words: 0.029*\"time\" + 0.027*\"open\" + 0.021*\"login\" + 0.012*\"course\" + 0.012*\"slow\" + 0.012*\"content\" + 0.012*\"experience\" + 0.012*\"working\" + 0.009*\"download\" + 0.009*\"properly\"\n",
            "\n",
            "\n",
            "Topic: 2 \n",
            "Words: 0.042*\"course\" + 0.025*\"free\" + 0.017*\"update\" + 0.015*\"time\" + 0.011*\"learning\" + 0.011*\"working\" + 0.011*\"class\" + 0.011*\"good\" + 0.009*\"user\" + 0.009*\"take\"\n",
            "\n",
            "\n",
            "Topic: 3 \n",
            "Words: 0.044*\"course\" + 0.017*\"video\" + 0.014*\"time\" + 0.011*\"login\" + 0.011*\"worst\" + 0.011*\"option\" + 0.010*\"account\" + 0.009*\"star\" + 0.009*\"available\" + 0.009*\"offline\"\n",
            "\n",
            "\n",
            "Topic: 4 \n",
            "Words: 0.023*\"time\" + 0.023*\"video\" + 0.019*\"working\" + 0.019*\"notification\" + 0.014*\"stop\" + 0.014*\"course\" + 0.010*\"taking\" + 0.010*\"issue\" + 0.010*\"quiz\" + 0.010*\"lecture\"\n",
            "\n",
            "\n",
            "Topic: 5 \n",
            "Words: 0.027*\"login\" + 0.025*\"email\" + 0.023*\"account\" + 0.018*\"application\" + 0.017*\"tried\" + 0.014*\"content\" + 0.013*\"know\" + 0.011*\"option\" + 0.011*\"password\" + 0.011*\"search\"\n",
            "\n",
            "\n",
            "Topic: 6 \n",
            "Words: 0.061*\"course\" + 0.030*\"time\" + 0.021*\"learning\" + 0.021*\"great\" + 0.015*\"issue\" + 0.013*\"certificate\" + 0.011*\"complete\" + 0.011*\"video\" + 0.010*\"work\" + 0.010*\"like\"\n",
            "\n",
            "\n",
            "\n",
            "\n"
          ]
        }
      ]
    },
    {
      "cell_type": "markdown",
      "source": [
        "* Topic-1  Unable to review\n",
        "* Topic-2  Logging in slow\n",
        "* Topic-3  Updated free course \n",
        "* Topic-4 Available offline\n",
        "* Topic-5  Issue while taking quiz\n",
        "* Topic-6  Dowloading certificate issue\n"
      ],
      "metadata": {
        "id": "S3XQPljJaZkl"
      }
    },
    {
      "cell_type": "code",
      "source": [
        "plot(app13data)"
      ],
      "metadata": {
        "colab": {
          "base_uri": "https://localhost:8080/",
          "height": 350
        },
        "id": "BlI7jVmDVLzA",
        "outputId": "0d15b65e-9c70-4351-a479-fc9c624ec712"
      },
      "execution_count": null,
      "outputs": [
        {
          "output_type": "stream",
          "name": "stderr",
          "text": [
            "/usr/local/lib/python3.7/dist-packages/seaborn/_decorators.py:43: FutureWarning: Pass the following variable as a keyword arg: x. From version 0.12, the only valid positional argument will be `data`, and passing other arguments without an explicit keyword will result in an error or misinterpretation.\n",
            "  FutureWarning\n"
          ]
        },
        {
          "output_type": "display_data",
          "data": {
            "text/plain": [
              "<Figure size 432x288 with 1 Axes>"
            ],
            "image/png": "[encoded data removed]"
          },
          "metadata": {
            "needs_background": "light"
          }
        }
      ]
    },
    {
      "cell_type": "markdown",
      "source": [
        "##APP14"
      ],
      "metadata": {
        "id": "hhU5cJ4FWimh"
      }
    },
    {
      "cell_type": "code",
      "source": [
        "app14data= pd.read_excel('/content/KhanAcademy.xlsx')\n",
        "app14data_bad_reviews= app14data.loc[app14data.score==1]\n",
        "printing_topics(app14data_bad_reviews)\n",
        "print(\"\\n\")"
      ],
      "metadata": {
        "colab": {
          "base_uri": "https://localhost:8080/"
        },
        "id": "QDLWjmH5beWn",
        "outputId": "74265584-f863-4a9d-cb8e-70dbeefda547"
      },
      "execution_count": null,
      "outputs": [
        {
          "output_type": "stream",
          "name": "stdout",
          "text": [
            "Topic: 0 \n",
            "Words: 0.030*\"wrong\" + 0.015*\"time\" + 0.015*\"account\" + 0.015*\"learning\" + 0.015*\"test\" + 0.012*\"website\" + 0.012*\"minute\" + 0.012*\"question\" + 0.012*\"answer\" + 0.012*\"khan\"\n",
            "\n",
            "\n",
            "Topic: 1 \n",
            "Words: 0.018*\"error\" + 0.013*\"website\" + 0.013*\"love\" + 0.013*\"work\" + 0.013*\"lesson\" + 0.013*\"actually\" + 0.013*\"making\" + 0.013*\"progress\" + 0.013*\"task\" + 0.010*\"load\"\n",
            "\n",
            "\n",
            "Topic: 2 \n",
            "Words: 0.031*\"video\" + 0.016*\"crash\" + 0.014*\"open\" + 0.014*\"time\" + 0.012*\"search\" + 0.012*\"khan\" + 0.012*\"academy\" + 0.010*\"able\" + 0.010*\"home\" + 0.008*\"download\"\n",
            "\n",
            "\n",
            "Topic: 3 \n",
            "Words: 0.022*\"open\" + 0.019*\"time\" + 0.019*\"able\" + 0.016*\"phone\" + 0.016*\"work\" + 0.013*\"tried\" + 0.013*\"great\" + 0.013*\"progress\" + 0.010*\"update\" + 0.010*\"question\"\n",
            "\n",
            "\n",
            "Topic: 4 \n",
            "Words: 0.018*\"video\" + 0.015*\"test\" + 0.012*\"screen\" + 0.012*\"star\" + 0.012*\"question\" + 0.012*\"course\" + 0.012*\"watch\" + 0.012*\"khan\" + 0.012*\"academy\" + 0.009*\"update\"\n",
            "\n",
            "\n",
            "Topic: 5 \n",
            "Words: 0.024*\"time\" + 0.021*\"video\" + 0.019*\"answer\" + 0.014*\"tried\" + 0.014*\"wouldn\" + 0.014*\"connection\" + 0.014*\"error\" + 0.014*\"course\" + 0.014*\"zoom\" + 0.011*\"star\"\n",
            "\n",
            "\n",
            "Topic: 6 \n",
            "Words: 0.034*\"problem\" + 0.014*\"like\" + 0.014*\"mobile\" + 0.012*\"star\" + 0.012*\"video\" + 0.009*\"update\" + 0.009*\"need\" + 0.009*\"lesson\" + 0.009*\"version\" + 0.009*\"tried\"\n",
            "\n",
            "\n",
            "\n",
            "\n"
          ]
        }
      ]
    },
    {
      "cell_type": "markdown",
      "source": [
        "* Topic-1  Suggeting to test before learning\n",
        "* Topic-2  Error in loading task\n",
        "* Topic-3  Vedio Crashing\n",
        "* Topic-4  Need calssification of topics more\n",
        "* Topic-5 Zooming problem\n",
        "* Topic-6  Connection problem\n",
        "* Topic-7  Couldn't star vedio in phone"
      ],
      "metadata": {
        "id": "Af7LXaIXbSe-"
      }
    },
    {
      "cell_type": "code",
      "source": [
        "plot(app14data)"
      ],
      "metadata": {
        "colab": {
          "base_uri": "https://localhost:8080/"
        },
        "id": "NhGlQG-DVSJG",
        "outputId": "525a2622-e8e1-4d11-e1be-2ab5f0f4889f"
      },
      "execution_count": null,
      "outputs": [
        {
          "output_type": "stream",
          "name": "stderr",
          "text": [
            "/usr/local/lib/python3.7/dist-packages/seaborn/_decorators.py:43: FutureWarning: Pass the following variable as a keyword arg: x. From version 0.12, the only valid positional argument will be `data`, and passing other arguments without an explicit keyword will result in an error or misinterpretation.\n",
            "  FutureWarning\n"
          ]
        },
        {
          "output_type": "display_data",
          "data": {
            "text/plain": [
              "<Figure size 432x288 with 1 Axes>"
            ],
            "image/png": "[encoded data removed]"
          },
          "metadata": {
            "needs_background": "light"
          }
        }
      ]
    },
    {
      "cell_type": "markdown",
      "source": [
        "##APP15"
      ],
      "metadata": {
        "id": "Ve52X-W9Wji5"
      }
    },
    {
      "cell_type": "code",
      "source": [
        "app15data= pd.read_excel('/content/KhanKids.xlsx')\n",
        "app15data_bad_reviews= app15data.loc[app15data.score==1]\n",
        "printing_topics(app15data_bad_reviews)\n",
        "print(\"\\n\")"
      ],
      "metadata": {
        "colab": {
          "base_uri": "https://localhost:8080/"
        },
        "id": "XQ7FwVFGblXF",
        "outputId": "d51db262-a65f-4544-e9f9-bd5a5ea37ad8"
      },
      "execution_count": null,
      "outputs": [
        {
          "output_type": "stream",
          "name": "stdout",
          "text": [
            "Topic: 0 \n",
            "Words: 0.019*\"screen\" + 0.019*\"year\" + 0.019*\"swipe\" + 0.019*\"daughter\" + 0.013*\"android\" + 0.013*\"click\" + 0.013*\"time\" + 0.013*\"love\" + 0.013*\"activity\" + 0.013*\"selected\"\n",
            "\n",
            "\n",
            "Topic: 1 \n",
            "Words: 0.037*\"email\" + 0.025*\"game\" + 0.025*\"available\" + 0.013*\"tablet\" + 0.013*\"keep\" + 0.013*\"love\" + 0.013*\"kid\" + 0.013*\"phone\" + 0.013*\"multiple\" + 0.013*\"uninstalled\"\n",
            "\n",
            "\n",
            "Topic: 2 \n",
            "Words: 0.023*\"reset\" + 0.023*\"email\" + 0.016*\"update\" + 0.016*\"work\" + 0.016*\"option\" + 0.016*\"working\" + 0.016*\"turned\" + 0.016*\"reinstalling\" + 0.008*\"unable\" + 0.008*\"automatically\"\n",
            "\n",
            "\n",
            "Topic: 3 \n",
            "Words: 0.024*\"password\" + 0.024*\"internet\" + 0.024*\"frozen\" + 0.024*\"reset\" + 0.013*\"crashed\" + 0.013*\"great\" + 0.013*\"apps\" + 0.013*\"samsung\" + 0.013*\"uninstall\" + 0.013*\"problem\"\n",
            "\n",
            "\n",
            "Topic: 4 \n",
            "Words: 0.028*\"getting\" + 0.028*\"email\" + 0.028*\"good\" + 0.028*\"receive\" + 0.015*\"samsung\" + 0.015*\"disappointed\" + 0.015*\"different\" + 0.015*\"password\" + 0.015*\"like\" + 0.015*\"device\"\n",
            "\n",
            "\n",
            "Topic: 5 \n",
            "Words: 0.021*\"crash\" + 0.021*\"load\" + 0.021*\"unusable\" + 0.021*\"year\" + 0.021*\"fixed\" + 0.021*\"profile\" + 0.011*\"open\" + 0.011*\"disappointing\" + 0.011*\"hoping\" + 0.011*\"install\"\n",
            "\n",
            "\n",
            "Topic: 6 \n",
            "Words: 0.025*\"open\" + 0.025*\"time\" + 0.017*\"force\" + 0.017*\"khan\" + 0.017*\"sign\" + 0.017*\"store\" + 0.017*\"come\" + 0.017*\"google\" + 0.017*\"play\" + 0.017*\"email\"\n",
            "\n",
            "\n",
            "\n",
            "\n"
          ]
        }
      ]
    },
    {
      "cell_type": "markdown",
      "source": [
        "*  Topic-1  Time taking to swipe screen\n",
        "* Topic-2  Many simliar apps available\n",
        "* Topic-3 eMail update option unavailable after updating\n",
        "* Topic-4  Frozen Screen , On reset crashed\n",
        "* Topic-5 Unavailable to get password recovery mail for Samsung phones\n",
        "* Topic-6 Crashing during loading\n",
        "\n"
      ],
      "metadata": {
        "id": "LVXe7ge6cj5Y"
      }
    },
    {
      "cell_type": "code",
      "source": [
        "plot(app15data)"
      ],
      "metadata": {
        "colab": {
          "base_uri": "https://localhost:8080/"
        },
        "id": "27HrCa_GVVAv",
        "outputId": "d96a96a1-9a4e-4757-8885-321e3f5a7350"
      },
      "execution_count": null,
      "outputs": [
        {
          "output_type": "stream",
          "name": "stderr",
          "text": [
            "/usr/local/lib/python3.7/dist-packages/seaborn/_decorators.py:43: FutureWarning: Pass the following variable as a keyword arg: x. From version 0.12, the only valid positional argument will be `data`, and passing other arguments without an explicit keyword will result in an error or misinterpretation.\n",
            "  FutureWarning\n"
          ]
        },
        {
          "output_type": "display_data",
          "data": {
            "text/plain": [
              "<Figure size 432x288 with 1 Axes>"
            ],
            "image/png": "[encoded data removed]"
          },
          "metadata": {
            "needs_background": "light"
          }
        }
      ]
    },
    {
      "cell_type": "markdown",
      "source": [
        "##APP16"
      ],
      "metadata": {
        "id": "vAhBAZW8WkiR"
      }
    },
    {
      "cell_type": "code",
      "source": [
        "app16data= pd.read_excel('/content/Kutuki (1).xlsx')\n",
        "app16data_bad_reviews= app16data.loc[app16data.score==1]\n",
        "printing_topics(app16data_bad_reviews)\n",
        "print(\"\\n\")"
      ],
      "metadata": {
        "colab": {
          "base_uri": "https://localhost:8080/"
        },
        "id": "IbgSnhzsbsQP",
        "outputId": "b804bcd3-c7fd-4ddf-a811-5641fd105489"
      },
      "execution_count": null,
      "outputs": [
        {
          "output_type": "stream",
          "name": "stdout",
          "text": [
            "Topic: 0 \n",
            "Words: 0.032*\"hindi\" + 0.032*\"marathi\" + 0.032*\"tamil\" + 0.032*\"kid\" + 0.032*\"english\" + 0.032*\"telugu\" + 0.017*\"working\" + 0.017*\"language\" + 0.017*\"showing\" + 0.017*\"need\"\n",
            "\n",
            "\n",
            "Topic: 1 \n",
            "Words: 0.042*\"game\" + 0.028*\"hindi\" + 0.028*\"want\" + 0.028*\"tried\" + 0.028*\"english\" + 0.028*\"kid\" + 0.028*\"time\" + 0.015*\"change\" + 0.015*\"baby\" + 0.015*\"year\"\n",
            "\n",
            "\n",
            "Topic: 2 \n",
            "Words: 0.043*\"marathi\" + 0.023*\"open\" + 0.023*\"gave\" + 0.023*\"kutuki\" + 0.023*\"language\" + 0.023*\"wasted\" + 0.023*\"thinking\" + 0.023*\"type\" + 0.023*\"ebst\" + 0.023*\"chosen\"\n",
            "\n",
            "\n",
            "Topic: 3 \n",
            "Words: 0.032*\"like\" + 0.032*\"open\" + 0.022*\"able\" + 0.022*\"worst\" + 0.022*\"child\" + 0.022*\"class\" + 0.022*\"getting\" + 0.022*\"report\" + 0.022*\"scare\" + 0.022*\"check\"\n",
            "\n",
            "\n",
            "Topic: 4 \n",
            "Words: 0.028*\"learn\" + 0.028*\"time\" + 0.028*\"apps\" + 0.028*\"free\" + 0.028*\"purchase\" + 0.028*\"child\" + 0.015*\"open\" + 0.015*\"download\" + 0.015*\"unable\" + 0.015*\"available\"\n",
            "\n",
            "\n",
            "Topic: 5 \n",
            "Words: 0.022*\"point\" + 0.022*\"like\" + 0.022*\"number\" + 0.022*\"know\" + 0.022*\"install\" + 0.022*\"personal\" + 0.022*\"financial\" + 0.022*\"going\" + 0.022*\"installing\" + 0.022*\"nees\"\n",
            "\n",
            "\n",
            "Topic: 6 \n",
            "Words: 0.043*\"worst\" + 0.023*\"experience\" + 0.023*\"sending\" + 0.023*\"issue\" + 0.023*\"reply\" + 0.023*\"say\" + 0.023*\"subscribe\" + 0.023*\"solving\" + 0.023*\"paid\" + 0.023*\"messaging\"\n",
            "\n",
            "\n",
            "\n",
            "\n"
          ]
        }
      ]
    },
    {
      "cell_type": "markdown",
      "source": [
        "* Topic-1  Language Problem\n",
        "* Topic-2 Not able to change baby year\n",
        "* Topic-3 Chosing language option not present\n",
        "* Topic-4 Not getting report of kid\n",
        "* Topic-5 Unable to download app freely \n",
        "* Topic-6 Financial error\n",
        "* Topic-7 Feedback sending issue "
      ],
      "metadata": {
        "id": "hfqNKskjf3K3"
      }
    },
    {
      "cell_type": "code",
      "source": [
        "plot(app16data)"
      ],
      "metadata": {
        "colab": {
          "base_uri": "https://localhost:8080/"
        },
        "id": "grxNn2I1VYRf",
        "outputId": "2d27766f-63db-476d-94c4-aeecba8434f9"
      },
      "execution_count": null,
      "outputs": [
        {
          "output_type": "stream",
          "name": "stderr",
          "text": [
            "/usr/local/lib/python3.7/dist-packages/seaborn/_decorators.py:43: FutureWarning: Pass the following variable as a keyword arg: x. From version 0.12, the only valid positional argument will be `data`, and passing other arguments without an explicit keyword will result in an error or misinterpretation.\n",
            "  FutureWarning\n"
          ]
        },
        {
          "output_type": "display_data",
          "data": {
            "text/plain": [
              "<Figure size 432x288 with 1 Axes>"
            ],
            "image/png": "[encoded data removed]"
          },
          "metadata": {
            "needs_background": "light"
          }
        }
      ]
    },
    {
      "cell_type": "markdown",
      "source": [
        "##APP17"
      ],
      "metadata": {
        "id": "2loEWy7zWlXg"
      }
    },
    {
      "cell_type": "code",
      "source": [
        "app17data= pd.read_excel('/content/MathKids (1).xlsx')\n",
        "app17data_bad_reviews= app17data.loc[app17data.score==1]\n",
        "printing_topics(app17data_bad_reviews)\n",
        "print(\"\\n\")"
      ],
      "metadata": {
        "colab": {
          "base_uri": "https://localhost:8080/"
        },
        "id": "fmW5pNfNbzBp",
        "outputId": "f9322b70-17b0-4792-8449-f151bb9005a0"
      },
      "execution_count": null,
      "outputs": [
        {
          "output_type": "stream",
          "name": "stdout",
          "text": [
            "Topic: 0 \n",
            "Words: 0.049*\"easy\" + 0.037*\"star\" + 0.025*\"math\" + 0.025*\"mean\" + 0.025*\"english\" + 0.013*\"designed\" + 0.013*\"hard\" + 0.013*\"child\" + 0.013*\"change\" + 0.013*\"addition\"\n",
            "\n",
            "\n",
            "Topic: 1 \n",
            "Words: 0.031*\"setting\" + 0.016*\"pronunciation\" + 0.016*\"english\" + 0.016*\"voice\" + 0.016*\"phone\" + 0.016*\"question\" + 0.016*\"alot\" + 0.016*\"better\" + 0.016*\"screen\" + 0.016*\"reinstalling\"\n",
            "\n",
            "\n",
            "Topic: 2 \n",
            "Words: 0.041*\"answer\" + 0.041*\"math\" + 0.041*\"verry\" + 0.028*\"kid\" + 0.028*\"need\" + 0.028*\"problem\" + 0.028*\"good\" + 0.028*\"like\" + 0.015*\"word\" + 0.015*\"going\"\n",
            "\n",
            "\n",
            "Topic: 3 \n",
            "Words: 0.047*\"game\" + 0.029*\"want\" + 0.020*\"play\" + 0.020*\"download\" + 0.020*\"language\" + 0.020*\"telling\" + 0.020*\"brother\" + 0.020*\"making\" + 0.020*\"know\" + 0.020*\"like\"\n",
            "\n",
            "\n",
            "Topic: 4 \n",
            "Words: 0.063*\"interview\" + 0.033*\"detail\" + 0.033*\"company\" + 0.017*\"able\" + 0.017*\"went\" + 0.017*\"day\" + 0.017*\"following\" + 0.017*\"completing\" + 0.017*\"current\" + 0.017*\"course\"\n",
            "\n",
            "\n",
            "Topic: 5 \n",
            "Words: 0.078*\"game\" + 0.057*\"kid\" + 0.050*\"like\" + 0.029*\"learn\" + 0.022*\"thought\" + 0.022*\"developer\" + 0.022*\"math\" + 0.015*\"phone\" + 0.015*\"worst\" + 0.015*\"plus\"\n",
            "\n",
            "\n",
            "Topic: 6 \n",
            "Words: 0.079*\"game\" + 0.045*\"math\" + 0.036*\"love\" + 0.036*\"thing\" + 0.027*\"learn\" + 0.027*\"work\" + 0.027*\"learning\" + 0.027*\"need\" + 0.019*\"kid\" + 0.019*\"year\"\n",
            "\n",
            "\n",
            "\n",
            "\n"
          ]
        }
      ]
    },
    {
      "cell_type": "markdown",
      "source": [
        "* Topic-1 Hard for children\n",
        "* Topic-2 Pronounciation lagnuage changing option available\n",
        "* Topic-3 Very Usefull for kids\n",
        "* Topic-4 Helping kids stop playing games\n",
        "* Topic-5 Followed day to day content\n",
        "* Topic-6 Learning through game\n",
        "* Topic-7 Math learn from games"
      ],
      "metadata": {
        "id": "SRj7GxbL34SS"
      }
    },
    {
      "cell_type": "code",
      "source": [
        "plot(app17data)"
      ],
      "metadata": {
        "colab": {
          "base_uri": "https://localhost:8080/"
        },
        "id": "j70V8j30VbqU",
        "outputId": "90aa29c5-c9cf-41df-d0f7-32c5d0bf2537"
      },
      "execution_count": null,
      "outputs": [
        {
          "output_type": "stream",
          "name": "stderr",
          "text": [
            "/usr/local/lib/python3.7/dist-packages/seaborn/_decorators.py:43: FutureWarning: Pass the following variable as a keyword arg: x. From version 0.12, the only valid positional argument will be `data`, and passing other arguments without an explicit keyword will result in an error or misinterpretation.\n",
            "  FutureWarning\n"
          ]
        },
        {
          "output_type": "display_data",
          "data": {
            "text/plain": [
              "<Figure size 432x288 with 1 Axes>"
            ],
            "image/png": "[encoded data removed]"
          },
          "metadata": {
            "needs_background": "light"
          }
        }
      ]
    },
    {
      "cell_type": "markdown",
      "source": [
        "##APP18"
      ],
      "metadata": {
        "id": "2SQNyVBJWmj1"
      }
    },
    {
      "cell_type": "code",
      "source": [
        "app18data= pd.read_excel('/content/Memrise.xlsx')\n",
        "app18data_bad_reviews= app18data.loc[app18data.score==1]\n",
        "printing_topics(app18data_bad_reviews)\n",
        "print(\"\\n\")"
      ],
      "metadata": {
        "colab": {
          "base_uri": "https://localhost:8080/"
        },
        "id": "c54D4Bqeb6qa",
        "outputId": "14332390-98d5-429f-ba94-7613beeef430"
      },
      "execution_count": null,
      "outputs": [
        {
          "output_type": "stream",
          "name": "stdout",
          "text": [
            "Topic: 0 \n",
            "Words: 0.019*\"design\" + 0.014*\"free\" + 0.012*\"good\" + 0.012*\"look\" + 0.010*\"theme\" + 0.010*\"like\" + 0.009*\"great\" + 0.009*\"option\" + 0.009*\"memrise\" + 0.007*\"unusable\"\n",
            "\n",
            "\n",
            "Topic: 1 \n",
            "Words: 0.014*\"subscription\" + 0.011*\"design\" + 0.009*\"time\" + 0.008*\"love\" + 0.008*\"able\" + 0.008*\"word\" + 0.008*\"look\" + 0.008*\"anymore\" + 0.008*\"haven\" + 0.007*\"version\"\n",
            "\n",
            "\n",
            "Topic: 2 \n",
            "Words: 0.019*\"course\" + 0.012*\"subscription\" + 0.012*\"word\" + 0.012*\"lesson\" + 0.012*\"learning\" + 0.010*\"duolingo\" + 0.010*\"audio\" + 0.010*\"option\" + 0.010*\"free\" + 0.008*\"need\"\n",
            "\n",
            "\n",
            "Topic: 3 \n",
            "Words: 0.022*\"course\" + 0.017*\"learning\" + 0.014*\"version\" + 0.014*\"time\" + 0.012*\"language\" + 0.012*\"lesson\" + 0.011*\"progress\" + 0.010*\"memrise\" + 0.010*\"year\" + 0.009*\"great\"\n",
            "\n",
            "\n",
            "Topic: 4 \n",
            "Words: 0.016*\"course\" + 0.011*\"look\" + 0.011*\"time\" + 0.011*\"year\" + 0.009*\"memrise\" + 0.009*\"like\" + 0.009*\"want\" + 0.009*\"learn\" + 0.009*\"language\" + 0.007*\"getting\"\n",
            "\n",
            "\n",
            "Topic: 5 \n",
            "Words: 0.015*\"memrise\" + 0.014*\"course\" + 0.014*\"learning\" + 0.013*\"look\" + 0.011*\"subscription\" + 0.010*\"year\" + 0.010*\"like\" + 0.010*\"language\" + 0.009*\"user\" + 0.008*\"free\"\n",
            "\n",
            "\n",
            "Topic: 6 \n",
            "Words: 0.015*\"content\" + 0.009*\"level\" + 0.009*\"time\" + 0.009*\"good\" + 0.009*\"like\" + 0.009*\"learning\" + 0.009*\"free\" + 0.006*\"long\" + 0.006*\"paid\" + 0.006*\"better\"\n",
            "\n",
            "\n",
            "\n",
            "\n"
          ]
        }
      ]
    },
    {
      "cell_type": "markdown",
      "source": [
        "* Topic-1 Good looking Backgroung effects\n",
        "* Topic-2 Latest version is good with subsscriotion\n",
        "* Topic-3 Free Audio Option\n",
        "* Topic-4 Lesson and also memrising well\n",
        "* Topic-5 Looking like free but requires subscription\n",
        "*  Topic-6 Subscription issues\n",
        "* Topic-7 Good content "
      ],
      "metadata": {
        "id": "-Vyd8cbbcwoo"
      }
    },
    {
      "cell_type": "code",
      "source": [
        "plot(app18data)"
      ],
      "metadata": {
        "colab": {
          "base_uri": "https://localhost:8080/"
        },
        "id": "kYJCYsCfVecD",
        "outputId": "dfe55941-5b52-4249-f575-5f2a4f413765"
      },
      "execution_count": null,
      "outputs": [
        {
          "output_type": "stream",
          "name": "stderr",
          "text": [
            "/usr/local/lib/python3.7/dist-packages/seaborn/_decorators.py:43: FutureWarning: Pass the following variable as a keyword arg: x. From version 0.12, the only valid positional argument will be `data`, and passing other arguments without an explicit keyword will result in an error or misinterpretation.\n",
            "  FutureWarning\n"
          ]
        },
        {
          "output_type": "display_data",
          "data": {
            "text/plain": [
              "<Figure size 432x288 with 1 Axes>"
            ],
            "image/png": "[encoded data removed]"
          },
          "metadata": {
            "needs_background": "light"
          }
        }
      ]
    },
    {
      "cell_type": "markdown",
      "source": [
        "##APP19"
      ],
      "metadata": {
        "id": "MJ-CUiAIWm-z"
      }
    },
    {
      "cell_type": "code",
      "source": [
        "app19data= pd.read_excel('/content/Oda (1).xlsx')\n",
        "app19data_bad_reviews= app19data.loc[app19data.score==1]\n",
        "printing_topics(app19data_bad_reviews)\n",
        "print(\"\\n\")"
      ],
      "metadata": {
        "colab": {
          "base_uri": "https://localhost:8080/"
        },
        "id": "YL49px1ccCKG",
        "outputId": "818a79be-c09e-4376-ef4f-f25885315202"
      },
      "execution_count": null,
      "outputs": [
        {
          "output_type": "stream",
          "name": "stdout",
          "text": [
            "Topic: 0 \n",
            "Words: 0.024*\"class\" + 0.018*\"refund\" + 0.014*\"money\" + 0.013*\"coin\" + 0.011*\"day\" + 0.011*\"enrollment\" + 0.011*\"number\" + 0.010*\"time\" + 0.009*\"fraud\" + 0.009*\"cancel\"\n",
            "\n",
            "\n",
            "Topic: 1 \n",
            "Words: 0.037*\"class\" + 0.033*\"course\" + 0.023*\"teacher\" + 0.021*\"good\" + 0.017*\"worst\" + 0.017*\"bridge\" + 0.011*\"enrolled\" + 0.011*\"student\" + 0.010*\"paid\" + 0.010*\"child\"\n",
            "\n",
            "\n",
            "Topic: 2 \n",
            "Words: 0.043*\"class\" + 0.013*\"number\" + 0.013*\"extra\" + 0.013*\"teacher\" + 0.013*\"math\" + 0.011*\"application\" + 0.011*\"fake\" + 0.011*\"mark\" + 0.011*\"install\" + 0.011*\"science\"\n",
            "\n",
            "\n",
            "Topic: 3 \n",
            "Words: 0.036*\"course\" + 0.015*\"like\" + 0.015*\"time\" + 0.014*\"money\" + 0.014*\"paid\" + 0.013*\"worst\" + 0.013*\"payment\" + 0.013*\"customer\" + 0.012*\"class\" + 0.009*\"bridge\"\n",
            "\n",
            "\n",
            "Topic: 4 \n",
            "Words: 0.025*\"course\" + 0.023*\"class\" + 0.020*\"session\" + 0.016*\"refund\" + 0.013*\"time\" + 0.011*\"reply\" + 0.011*\"given\" + 0.011*\"team\" + 0.009*\"enroll\" + 0.009*\"daughter\"\n",
            "\n",
            "\n",
            "Topic: 5 \n",
            "Words: 0.021*\"class\" + 0.019*\"mentor\" + 0.017*\"course\" + 0.017*\"money\" + 0.015*\"worst\" + 0.015*\"experience\" + 0.015*\"teacher\" + 0.014*\"time\" + 0.012*\"child\" + 0.012*\"good\"\n",
            "\n",
            "\n",
            "Topic: 6 \n",
            "Words: 0.054*\"class\" + 0.038*\"teacher\" + 0.016*\"time\" + 0.013*\"course\" + 0.013*\"teaching\" + 0.012*\"child\" + 0.012*\"like\" + 0.011*\"good\" + 0.011*\"student\" + 0.010*\"mentor\"\n",
            "\n",
            "\n",
            "\n",
            "\n"
          ]
        }
      ]
    },
    {
      "cell_type": "markdown",
      "source": [
        "* Topic-1 Thinking there is some fraud- trust issues\n",
        "* Topic-2 Bridge course was not so good\n",
        "* Topic-3 Accepting fake applications\n",
        "* Topic-4 Wastely paid money fpr the bridge course\n",
        "* Topic-5 Refund issues\n",
        "* Topic-6 Worst Experience\n",
        "* Topic-7 Teaching the same course again again"
      ],
      "metadata": {
        "id": "_MMY5Zlwep8j"
      }
    },
    {
      "cell_type": "code",
      "source": [
        "plot(app19data)"
      ],
      "metadata": {
        "colab": {
          "base_uri": "https://localhost:8080/"
        },
        "id": "jtlRDBqyVhnK",
        "outputId": "2562042e-bbac-4d95-a6ed-8572e56793fc"
      },
      "execution_count": null,
      "outputs": [
        {
          "output_type": "stream",
          "name": "stderr",
          "text": [
            "/usr/local/lib/python3.7/dist-packages/seaborn/_decorators.py:43: FutureWarning: Pass the following variable as a keyword arg: x. From version 0.12, the only valid positional argument will be `data`, and passing other arguments without an explicit keyword will result in an error or misinterpretation.\n",
            "  FutureWarning\n"
          ]
        },
        {
          "output_type": "display_data",
          "data": {
            "text/plain": [
              "<Figure size 432x288 with 1 Axes>"
            ],
            "image/png": "[encoded data removed]"
          },
          "metadata": {
            "needs_background": "light"
          }
        }
      ]
    },
    {
      "cell_type": "markdown",
      "source": [
        "##APP20"
      ],
      "metadata": {
        "id": "x7XUJQB7Wp7D"
      }
    },
    {
      "cell_type": "code",
      "source": [
        "app20data= pd.read_excel('/content/Prodigy.xlsx')\n",
        "app20data_bad_reviews= app20data.loc[app20data.score==1]\n",
        "printing_topics(app20data_bad_reviews)\n",
        "print(\"\\n\")"
      ],
      "metadata": {
        "colab": {
          "base_uri": "https://localhost:8080/"
        },
        "id": "KMsMnID-cLRW",
        "outputId": "14016b13-316a-4754-c575-78b2743a8861"
      },
      "execution_count": null,
      "outputs": [
        {
          "output_type": "stream",
          "name": "stdout",
          "text": [
            "Topic: 0 \n",
            "Words: 0.016*\"account\" + 0.012*\"poor\" + 0.012*\"play\" + 0.010*\"load\" + 0.009*\"need\" + 0.009*\"game\" + 0.009*\"google\" + 0.008*\"kid\" + 0.007*\"screen\" + 0.007*\"great\"\n",
            "\n",
            "\n",
            "Topic: 1 \n",
            "Words: 0.040*\"membership\" + 0.031*\"like\" + 0.025*\"game\" + 0.020*\"thing\" + 0.018*\"member\" + 0.016*\"money\" + 0.015*\"stuff\" + 0.011*\"say\" + 0.011*\"math\" + 0.009*\"pet\"\n",
            "\n",
            "\n",
            "Topic: 2 \n",
            "Words: 0.081*\"game\" + 0.018*\"math\" + 0.017*\"prodigy\" + 0.015*\"thing\" + 0.015*\"membership\" + 0.014*\"money\" + 0.013*\"time\" + 0.011*\"animal\" + 0.011*\"phone\" + 0.011*\"child\"\n",
            "\n",
            "\n",
            "Topic: 3 \n",
            "Words: 0.028*\"time\" + 0.020*\"math\" + 0.020*\"game\" + 0.014*\"grade\" + 0.013*\"kid\" + 0.010*\"service\" + 0.009*\"like\" + 0.007*\"learning\" + 0.007*\"need\" + 0.007*\"horrible\"\n",
            "\n",
            "\n",
            "Topic: 4 \n",
            "Words: 0.083*\"game\" + 0.023*\"like\" + 0.023*\"play\" + 0.018*\"membership\" + 0.016*\"prodigy\" + 0.015*\"member\" + 0.013*\"good\" + 0.011*\"pet\" + 0.010*\"monster\" + 0.010*\"school\"\n",
            "\n",
            "\n",
            "Topic: 5 \n",
            "Words: 0.057*\"game\" + 0.050*\"membership\" + 0.030*\"pet\" + 0.026*\"evolve\" + 0.021*\"member\" + 0.016*\"time\" + 0.015*\"play\" + 0.015*\"need\" + 0.014*\"like\" + 0.012*\"want\"\n",
            "\n",
            "\n",
            "Topic: 6 \n",
            "Words: 0.032*\"game\" + 0.016*\"membership\" + 0.015*\"question\" + 0.013*\"grade\" + 0.012*\"math\" + 0.010*\"screen\" + 0.010*\"able\" + 0.010*\"hard\" + 0.008*\"work\" + 0.008*\"review\"\n",
            "\n",
            "\n",
            "\n",
            "\n"
          ]
        }
      ]
    },
    {
      "cell_type": "markdown",
      "source": [
        "* Topic-1 Account related issues\n",
        "* Topic-2 Asking for membership\n",
        "* Topic-3 Children learning math wit game\n",
        "* Topic-4 Time related issues\n",
        "* Topic-5 Nice idea of pet monster\n",
        "* Topic-6 Membership issue\n",
        "* Topic-7 Hard work required"
      ],
      "metadata": {
        "id": "umws2LjGhqEx"
      }
    },
    {
      "cell_type": "code",
      "source": [
        "plot(app20data)"
      ],
      "metadata": {
        "colab": {
          "base_uri": "https://localhost:8080/"
        },
        "id": "upIImtu8VktH",
        "outputId": "28447c34-4917-4f86-c2c2-23306562335a"
      },
      "execution_count": null,
      "outputs": [
        {
          "output_type": "stream",
          "name": "stderr",
          "text": [
            "/usr/local/lib/python3.7/dist-packages/seaborn/_decorators.py:43: FutureWarning: Pass the following variable as a keyword arg: x. From version 0.12, the only valid positional argument will be `data`, and passing other arguments without an explicit keyword will result in an error or misinterpretation.\n",
            "  FutureWarning\n"
          ]
        },
        {
          "output_type": "display_data",
          "data": {
            "text/plain": [
              "<Figure size 432x288 with 1 Axes>"
            ],
            "image/png": "[encoded data removed]"
          },
          "metadata": {
            "needs_background": "light"
          }
        }
      ]
    },
    {
      "cell_type": "markdown",
      "source": [
        "##APP21"
      ],
      "metadata": {
        "id": "LzkJRwzlWrSQ"
      }
    },
    {
      "cell_type": "code",
      "source": [
        "app21data= pd.read_excel('/content/TeachMint.xlsx')\n",
        "app21data_bad_reviews= app21data.loc[app21data.score==1]\n",
        "printing_topics(app21data_bad_reviews)\n",
        "print(\"\\n\")"
      ],
      "metadata": {
        "colab": {
          "base_uri": "https://localhost:8080/"
        },
        "id": "wxeATVKTcTvY",
        "outputId": "a53bb448-b15d-490c-ea2c-31069d271b0d"
      },
      "execution_count": null,
      "outputs": [
        {
          "output_type": "stream",
          "name": "stdout",
          "text": [
            "Topic: 0 \n",
            "Words: 0.037*\"class\" + 0.037*\"problem\" + 0.024*\"solve\" + 0.018*\"open\" + 0.016*\"star\" + 0.016*\"student\" + 0.016*\"good\" + 0.013*\"video\" + 0.013*\"able\" + 0.013*\"soon\"\n",
            "\n",
            "\n",
            "Topic: 1 \n",
            "Words: 0.042*\"internet\" + 0.033*\"connection\" + 0.023*\"class\" + 0.022*\"check\" + 0.021*\"problem\" + 0.018*\"show\" + 0.017*\"able\" + 0.015*\"good\" + 0.015*\"teachmint\" + 0.015*\"worst\"\n",
            "\n",
            "\n",
            "Topic: 2 \n",
            "Words: 0.064*\"class\" + 0.018*\"open\" + 0.018*\"issue\" + 0.018*\"connection\" + 0.016*\"good\" + 0.016*\"version\" + 0.016*\"internet\" + 0.014*\"network\" + 0.013*\"showing\" + 0.012*\"experience\"\n",
            "\n",
            "\n",
            "Topic: 3 \n",
            "Words: 0.043*\"class\" + 0.030*\"test\" + 0.022*\"question\" + 0.015*\"good\" + 0.014*\"notification\" + 0.014*\"teacher\" + 0.013*\"worst\" + 0.011*\"option\" + 0.009*\"student\" + 0.009*\"able\"\n",
            "\n",
            "\n",
            "Topic: 4 \n",
            "Words: 0.024*\"screen\" + 0.024*\"class\" + 0.021*\"student\" + 0.017*\"time\" + 0.017*\"teachmint\" + 0.016*\"live\" + 0.014*\"option\" + 0.014*\"thing\" + 0.012*\"long\" + 0.012*\"teacher\"\n",
            "\n",
            "\n",
            "Topic: 5 \n",
            "Words: 0.041*\"class\" + 0.020*\"teacher\" + 0.019*\"device\" + 0.017*\"worst\" + 0.013*\"teachmint\" + 0.013*\"show\" + 0.012*\"option\" + 0.012*\"review\" + 0.012*\"start\" + 0.012*\"time\"\n",
            "\n",
            "\n",
            "Topic: 6 \n",
            "Words: 0.039*\"video\" + 0.026*\"data\" + 0.021*\"class\" + 0.018*\"problem\" + 0.018*\"good\" + 0.016*\"student\" + 0.015*\"time\" + 0.014*\"teachmint\" + 0.013*\"recorded\" + 0.011*\"feature\"\n",
            "\n",
            "\n",
            "\n",
            "\n"
          ]
        }
      ]
    },
    {
      "cell_type": "markdown",
      "source": [
        "* Topic-1 Good problem solving along with starring\n",
        "* Topic-2 Internet connection issues\n",
        "* Topic-3 Class opening isssue\n",
        "* Topic-4 No notification option\n",
        "* Topic-5 Long live classes\n",
        "* Topic-6 On reviewing start form the beginning\n",
        "* Topic-7 Recording feature available"
      ],
      "metadata": {
        "id": "ZdJKItiBl7cB"
      }
    },
    {
      "cell_type": "code",
      "source": [
        "plot(app21data)"
      ],
      "metadata": {
        "colab": {
          "base_uri": "https://localhost:8080/"
        },
        "id": "kRl0q7IEVpdv",
        "outputId": "5d6cb59e-4f7c-4c48-e59d-c4c4064b915d"
      },
      "execution_count": null,
      "outputs": [
        {
          "output_type": "stream",
          "name": "stderr",
          "text": [
            "/usr/local/lib/python3.7/dist-packages/seaborn/_decorators.py:43: FutureWarning: Pass the following variable as a keyword arg: x. From version 0.12, the only valid positional argument will be `data`, and passing other arguments without an explicit keyword will result in an error or misinterpretation.\n",
            "  FutureWarning\n"
          ]
        },
        {
          "output_type": "display_data",
          "data": {
            "text/plain": [
              "<Figure size 432x288 with 1 Axes>"
            ],
            "image/png": "[encoded data removed]"
          },
          "metadata": {
            "needs_background": "light"
          }
        }
      ]
    },
    {
      "cell_type": "markdown",
      "source": [
        "##APP22"
      ],
      "metadata": {
        "id": "wCiO7vTYWsO9"
      }
    },
    {
      "cell_type": "code",
      "source": [
        "app22data= pd.read_excel('/content/ThirdFlix.xlsx')\n",
        "app22data_bad_reviews= app22data.loc[app22data.score==1]\n",
        "printing_topics(app22data_bad_reviews)\n",
        "print(\"\\n\")"
      ],
      "metadata": {
        "colab": {
          "base_uri": "https://localhost:8080/"
        },
        "id": "3Pnss2P7cbSc",
        "outputId": "15a94701-8d04-4c33-ec49-9a8ca2c62461"
      },
      "execution_count": null,
      "outputs": [
        {
          "output_type": "stream",
          "name": "stdout",
          "text": [
            "Topic: 0 \n",
            "Words: 0.021*\"session\" + 0.021*\"worst\" + 0.018*\"browser\" + 0.016*\"good\" + 0.016*\"problem\" + 0.013*\"experience\" + 0.013*\"working\" + 0.013*\"practically\" + 0.013*\"response\" + 0.013*\"class\"\n",
            "\n",
            "\n",
            "Topic: 1 \n",
            "Words: 0.025*\"worst\" + 0.023*\"time\" + 0.018*\"video\" + 0.013*\"login\" + 0.013*\"problem\" + 0.013*\"phone\" + 0.011*\"error\" + 0.011*\"class\" + 0.010*\"experience\" + 0.010*\"microphone\"\n",
            "\n",
            "\n",
            "Topic: 2 \n",
            "Words: 0.018*\"phone\" + 0.018*\"video\" + 0.018*\"download\" + 0.018*\"data\" + 0.014*\"good\" + 0.014*\"like\" + 0.011*\"tried\" + 0.011*\"opening\" + 0.011*\"thing\" + 0.011*\"able\"\n",
            "\n",
            "\n",
            "Topic: 3 \n",
            "Words: 0.021*\"worst\" + 0.018*\"meeting\" + 0.018*\"zoom\" + 0.014*\"problem\" + 0.014*\"open\" + 0.011*\"consumes\" + 0.011*\"coming\" + 0.011*\"data\" + 0.011*\"work\" + 0.010*\"feature\"\n",
            "\n",
            "\n",
            "Topic: 4 \n",
            "Words: 0.024*\"video\" + 0.018*\"time\" + 0.018*\"worst\" + 0.017*\"class\" + 0.014*\"work\" + 0.012*\"star\" + 0.011*\"problem\" + 0.011*\"guy\" + 0.011*\"come\" + 0.011*\"seen\"\n",
            "\n",
            "\n",
            "Topic: 5 \n",
            "Words: 0.034*\"zoom\" + 0.033*\"class\" + 0.022*\"option\" + 0.017*\"practically\" + 0.017*\"time\" + 0.017*\"chat\" + 0.015*\"error\" + 0.013*\"download\" + 0.012*\"good\" + 0.011*\"like\"\n",
            "\n",
            "\n",
            "Topic: 6 \n",
            "Words: 0.028*\"class\" + 0.014*\"star\" + 0.014*\"worst\" + 0.014*\"session\" + 0.014*\"like\" + 0.014*\"time\" + 0.011*\"care\" + 0.011*\"phone\" + 0.010*\"better\" + 0.010*\"waste\"\n",
            "\n",
            "\n",
            "\n",
            "\n"
          ]
        }
      ]
    },
    {
      "cell_type": "markdown",
      "source": [
        "* Topic-1 Good Problem experience\n",
        "* Topic-2 Login problem\n",
        "* Topic-3 Vedio downloading taking more data\n",
        "* Topic-4 Problem with interface\n",
        "* Topic-5 Vedio timing issues\n",
        "* Topic-6 Chat issues in zoom\n",
        "* Topic-7 Time wasting sessions"
      ],
      "metadata": {
        "id": "gvHHMrW3ngZh"
      }
    },
    {
      "cell_type": "code",
      "source": [
        "plot(app22data)"
      ],
      "metadata": {
        "colab": {
          "base_uri": "https://localhost:8080/"
        },
        "id": "U99DjEoiVsNE",
        "outputId": "969575a6-351b-43bf-b239-b775189b0ba3"
      },
      "execution_count": null,
      "outputs": [
        {
          "output_type": "stream",
          "name": "stderr",
          "text": [
            "/usr/local/lib/python3.7/dist-packages/seaborn/_decorators.py:43: FutureWarning: Pass the following variable as a keyword arg: x. From version 0.12, the only valid positional argument will be `data`, and passing other arguments without an explicit keyword will result in an error or misinterpretation.\n",
            "  FutureWarning\n"
          ]
        },
        {
          "output_type": "display_data",
          "data": {
            "text/plain": [
              "<Figure size 432x288 with 1 Axes>"
            ],
            "image/png": "[encoded data removed]"
          },
          "metadata": {
            "needs_background": "light"
          }
        }
      ]
    },
    {
      "cell_type": "markdown",
      "source": [
        "##APP23"
      ],
      "metadata": {
        "id": "d2tbPst2WtLp"
      }
    },
    {
      "cell_type": "code",
      "source": [
        "app23data= pd.read_excel('/content/TinyTap.xlsx')\n",
        "app23data_bad_reviews= app23data.loc[app23data.score==1]\n",
        "printing_topics(app23data_bad_reviews)\n",
        "print(\"\\n\")"
      ],
      "metadata": {
        "colab": {
          "base_uri": "https://localhost:8080/"
        },
        "id": "0sU_DtZTcikm",
        "outputId": "de647030-372e-4a29-ca4e-7c0847ad04e9"
      },
      "execution_count": null,
      "outputs": [
        {
          "output_type": "stream",
          "name": "stdout",
          "text": [
            "Topic: 0 \n",
            "Words: 0.033*\"trial\" + 0.030*\"free\" + 0.029*\"charged\" + 0.021*\"cancel\" + 0.019*\"year\" + 0.018*\"subscription\" + 0.018*\"game\" + 0.016*\"want\" + 0.015*\"refund\" + 0.015*\"work\"\n",
            "\n",
            "\n",
            "Topic: 1 \n",
            "Words: 0.024*\"subscription\" + 0.022*\"charged\" + 0.018*\"cancelled\" + 0.017*\"refund\" + 0.017*\"email\" + 0.014*\"money\" + 0.013*\"child\" + 0.010*\"download\" + 0.010*\"year\" + 0.009*\"game\"\n",
            "\n",
            "\n",
            "Topic: 2 \n",
            "Words: 0.025*\"subscription\" + 0.024*\"cancel\" + 0.021*\"charged\" + 0.020*\"email\" + 0.015*\"trial\" + 0.014*\"money\" + 0.013*\"refund\" + 0.012*\"phone\" + 0.010*\"account\" + 0.010*\"work\"\n",
            "\n",
            "\n",
            "Topic: 3 \n",
            "Words: 0.034*\"game\" + 0.030*\"money\" + 0.020*\"good\" + 0.015*\"year\" + 0.014*\"freeze\" + 0.013*\"free\" + 0.012*\"refund\" + 0.012*\"child\" + 0.011*\"tried\" + 0.011*\"worth\"\n",
            "\n",
            "\n",
            "Topic: 4 \n",
            "Words: 0.023*\"time\" + 0.020*\"game\" + 0.014*\"day\" + 0.014*\"answer\" + 0.012*\"charge\" + 0.010*\"sign\" + 0.010*\"year\" + 0.009*\"subscription\" + 0.009*\"child\" + 0.009*\"stuck\"\n",
            "\n",
            "\n",
            "Topic: 5 \n",
            "Words: 0.036*\"refund\" + 0.022*\"money\" + 0.019*\"subscription\" + 0.018*\"time\" + 0.016*\"trial\" + 0.014*\"charged\" + 0.014*\"free\" + 0.013*\"cancel\" + 0.012*\"tried\" + 0.012*\"card\"\n",
            "\n",
            "\n",
            "Topic: 6 \n",
            "Words: 0.031*\"free\" + 0.026*\"trial\" + 0.019*\"money\" + 0.015*\"subscription\" + 0.015*\"scam\" + 0.015*\"charged\" + 0.013*\"email\" + 0.013*\"review\" + 0.012*\"account\" + 0.012*\"want\"\n",
            "\n",
            "\n",
            "\n",
            "\n"
          ]
        }
      ]
    },
    {
      "cell_type": "markdown",
      "source": [
        "* Topic-1 Refund related issues\n",
        "* Topic-2 Subscription related issue\n",
        "* Topic-3 Account subscription cancelles\n",
        "* Toipic-4 Freezing game\n",
        "*  Topic-5 Time taking game]\n",
        "* Topic-6 Card payment related issues\n",
        "* Topic-7 Sending emails for subscription"
      ],
      "metadata": {
        "id": "HAU7KhsLoMQm"
      }
    },
    {
      "cell_type": "code",
      "source": [
        "plot(app23data)"
      ],
      "metadata": {
        "colab": {
          "base_uri": "https://localhost:8080/"
        },
        "id": "Hm4Aii2UVvW1",
        "outputId": "4d52be2b-50ec-4709-feb7-521684a6290c"
      },
      "execution_count": null,
      "outputs": [
        {
          "output_type": "stream",
          "name": "stderr",
          "text": [
            "/usr/local/lib/python3.7/dist-packages/seaborn/_decorators.py:43: FutureWarning: Pass the following variable as a keyword arg: x. From version 0.12, the only valid positional argument will be `data`, and passing other arguments without an explicit keyword will result in an error or misinterpretation.\n",
            "  FutureWarning\n"
          ]
        },
        {
          "output_type": "display_data",
          "data": {
            "text/plain": [
              "<Figure size 432x288 with 1 Axes>"
            ],
            "image/png": "[encoded data removed]"
          },
          "metadata": {
            "needs_background": "light"
          }
        }
      ]
    },
    {
      "cell_type": "markdown",
      "source": [
        "##APP24"
      ],
      "metadata": {
        "id": "K50RuD7tWuQ4"
      }
    },
    {
      "cell_type": "code",
      "source": [
        "app24data= pd.read_excel('/content/Toppr (1).xlsx')\n",
        "app24data_bad_reviews= app24data.loc[app24data.score==1]\n",
        "printing_topics(app24data_bad_reviews)\n",
        "print(\"\\n\")"
      ],
      "metadata": {
        "colab": {
          "base_uri": "https://localhost:8080/"
        },
        "id": "CWusgELhcoMV",
        "outputId": "f45c1612-fca5-4b20-abaa-4d58f7b2a292"
      },
      "execution_count": null,
      "outputs": [
        {
          "output_type": "stream",
          "name": "stdout",
          "text": [
            "Topic: 0 \n",
            "Words: 0.034*\"video\" + 0.025*\"doubt\" + 0.024*\"money\" + 0.020*\"question\" + 0.014*\"waste\" + 0.013*\"teacher\" + 0.013*\"better\" + 0.012*\"time\" + 0.011*\"premium\" + 0.011*\"answer\"\n",
            "\n",
            "\n",
            "Topic: 1 \n",
            "Words: 0.017*\"subscription\" + 0.014*\"doubt\" + 0.013*\"time\" + 0.012*\"answer\" + 0.012*\"tutor\" + 0.011*\"solve\" + 0.011*\"worst\" + 0.011*\"money\" + 0.010*\"good\" + 0.009*\"issue\"\n",
            "\n",
            "\n",
            "Topic: 2 \n",
            "Words: 0.027*\"worst\" + 0.023*\"problem\" + 0.022*\"video\" + 0.017*\"time\" + 0.012*\"know\" + 0.012*\"question\" + 0.011*\"toppr\" + 0.011*\"want\" + 0.009*\"need\" + 0.008*\"solve\"\n",
            "\n",
            "\n",
            "Topic: 3 \n",
            "Words: 0.018*\"time\" + 0.017*\"problem\" + 0.014*\"subscription\" + 0.012*\"class\" + 0.012*\"video\" + 0.012*\"toppr\" + 0.011*\"show\" + 0.011*\"worst\" + 0.011*\"live\" + 0.010*\"chapter\"\n",
            "\n",
            "\n",
            "Topic: 4 \n",
            "Words: 0.017*\"good\" + 0.017*\"video\" + 0.017*\"toppr\" + 0.016*\"worst\" + 0.012*\"class\" + 0.010*\"free\" + 0.010*\"like\" + 0.008*\"question\" + 0.008*\"year\" + 0.008*\"issue\"\n",
            "\n",
            "\n",
            "Topic: 5 \n",
            "Words: 0.032*\"time\" + 0.018*\"toppr\" + 0.014*\"speed\" + 0.011*\"experience\" + 0.010*\"say\" + 0.009*\"open\" + 0.009*\"internet\" + 0.009*\"good\" + 0.009*\"giving\" + 0.008*\"doubt\"\n",
            "\n",
            "\n",
            "Topic: 6 \n",
            "Words: 0.015*\"worst\" + 0.013*\"time\" + 0.013*\"question\" + 0.011*\"lecture\" + 0.011*\"waste\" + 0.011*\"video\" + 0.010*\"toppr\" + 0.009*\"topper\" + 0.009*\"student\" + 0.009*\"study\"\n",
            "\n",
            "\n",
            "\n",
            "\n"
          ]
        }
      ]
    },
    {
      "cell_type": "markdown",
      "source": [
        "* Topic-1  Money payment required fror doubt answer\n",
        "* Topic-2 Paymnet issue\n",
        "* Topic-3 No video solution available\n",
        "* Topic-4,5,6,7 Good reviews"
      ],
      "metadata": {
        "id": "neI7ZRFnsTfO"
      }
    },
    {
      "cell_type": "code",
      "source": [
        "plot(app24data)"
      ],
      "metadata": {
        "colab": {
          "base_uri": "https://localhost:8080/"
        },
        "id": "SnmXgwzqVyxY",
        "outputId": "41452464-0020-4308-da11-e43ad2c75246"
      },
      "execution_count": null,
      "outputs": [
        {
          "output_type": "stream",
          "name": "stderr",
          "text": [
            "/usr/local/lib/python3.7/dist-packages/seaborn/_decorators.py:43: FutureWarning: Pass the following variable as a keyword arg: x. From version 0.12, the only valid positional argument will be `data`, and passing other arguments without an explicit keyword will result in an error or misinterpretation.\n",
            "  FutureWarning\n"
          ]
        },
        {
          "output_type": "display_data",
          "data": {
            "text/plain": [
              "<Figure size 432x288 with 1 Axes>"
            ],
            "image/png": "[encoded data removed]"
          },
          "metadata": {
            "needs_background": "light"
          }
        }
      ]
    },
    {
      "cell_type": "markdown",
      "source": [
        "##APP25"
      ],
      "metadata": {
        "id": "QkqTdX8TWvF-"
      }
    },
    {
      "cell_type": "code",
      "source": [
        "app25data= pd.read_excel('/content/Udemy (1).xlsx')\n",
        "app25data_bad_reviews= app25data.loc[app25data.score==1]\n",
        "printing_topics(app25data_bad_reviews)\n",
        "print(\"\\n\")"
      ],
      "metadata": {
        "colab": {
          "base_uri": "https://localhost:8080/"
        },
        "id": "8dN-t7MdcxVu",
        "outputId": "57465c28-3521-4210-c0d2-6824519d7248"
      },
      "execution_count": null,
      "outputs": [
        {
          "output_type": "stream",
          "name": "stdout",
          "text": [
            "Topic: 0 \n",
            "Words: 0.022*\"course\" + 0.018*\"video\" + 0.017*\"udemy\" + 0.015*\"password\" + 0.014*\"working\" + 0.014*\"support\" + 0.014*\"casting\" + 0.011*\"time\" + 0.010*\"work\" + 0.009*\"update\"\n",
            "\n",
            "\n",
            "Topic: 1 \n",
            "Words: 0.080*\"course\" + 0.030*\"account\" + 0.018*\"payment\" + 0.018*\"purchased\" + 0.018*\"able\" + 0.017*\"udemy\" + 0.016*\"issue\" + 0.014*\"time\" + 0.012*\"worst\" + 0.011*\"login\"\n",
            "\n",
            "\n",
            "Topic: 2 \n",
            "Words: 0.053*\"video\" + 0.037*\"course\" + 0.023*\"play\" + 0.016*\"work\" + 0.014*\"downloaded\" + 0.011*\"lecture\" + 0.011*\"offline\" + 0.010*\"want\" + 0.009*\"udemy\" + 0.009*\"watch\"\n",
            "\n",
            "\n",
            "Topic: 3 \n",
            "Words: 0.037*\"course\" + 0.030*\"video\" + 0.014*\"udemy\" + 0.012*\"issue\" + 0.011*\"play\" + 0.010*\"view\" + 0.009*\"update\" + 0.009*\"time\" + 0.009*\"downloaded\" + 0.009*\"ticket\"\n",
            "\n",
            "\n",
            "Topic: 4 \n",
            "Words: 0.011*\"video\" + 0.011*\"response\" + 0.009*\"watch\" + 0.009*\"time\" + 0.008*\"device\" + 0.008*\"udemy\" + 0.007*\"thing\" + 0.007*\"feature\" + 0.007*\"load\" + 0.006*\"able\"\n",
            "\n",
            "\n",
            "Topic: 5 \n",
            "Words: 0.018*\"course\" + 0.015*\"video\" + 0.012*\"time\" + 0.012*\"content\" + 0.011*\"price\" + 0.010*\"download\" + 0.009*\"downloaded\" + 0.009*\"issue\" + 0.009*\"udemy\" + 0.008*\"screen\"\n",
            "\n",
            "\n",
            "Topic: 6 \n",
            "Words: 0.032*\"video\" + 0.029*\"course\" + 0.022*\"lecture\" + 0.019*\"download\" + 0.017*\"work\" + 0.016*\"time\" + 0.013*\"udemy\" + 0.013*\"issue\" + 0.013*\"downloaded\" + 0.012*\"load\"\n",
            "\n",
            "\n",
            "\n",
            "\n"
          ]
        }
      ]
    },
    {
      "cell_type": "markdown",
      "source": [
        "* Topic-1  Time to time work update\n",
        "* Topic-2 Login issues\n",
        "* Topic-3 Wanted offline video downloading option\n",
        "* Topic-4 Video playing issues\n",
        "* Topic-5 Working time issue\n",
        "* Topic-6 Payment related issues\n",
        "* Topic-7 Working time issue"
      ],
      "metadata": {
        "id": "7BV4v7Jp7Ov9"
      }
    },
    {
      "cell_type": "code",
      "source": [
        "plot(app25data)"
      ],
      "metadata": {
        "colab": {
          "base_uri": "https://localhost:8080/"
        },
        "id": "9nAkecM4V10w",
        "outputId": "02c06873-3bc1-4f45-872b-1badadfb8e6b"
      },
      "execution_count": null,
      "outputs": [
        {
          "output_type": "stream",
          "name": "stderr",
          "text": [
            "/usr/local/lib/python3.7/dist-packages/seaborn/_decorators.py:43: FutureWarning: Pass the following variable as a keyword arg: x. From version 0.12, the only valid positional argument will be `data`, and passing other arguments without an explicit keyword will result in an error or misinterpretation.\n",
            "  FutureWarning\n"
          ]
        },
        {
          "output_type": "display_data",
          "data": {
            "text/plain": [
              "<Figure size 432x288 with 1 Axes>"
            ],
            "image/png": "[encoded data removed]"
          },
          "metadata": {
            "needs_background": "light"
          }
        }
      ]
    },
    {
      "cell_type": "markdown",
      "source": [
        "##APP26"
      ],
      "metadata": {
        "id": "9WEMyxOEWwB2"
      }
    },
    {
      "cell_type": "code",
      "source": [
        "app26data= pd.read_excel('/content/Unacademy (1).xlsx')\n",
        "app26data_bad_reviews= app26data.loc[app24data.score==1]\n",
        "printing_topics(app26data_bad_reviews)\n",
        "print(\"\\n\")"
      ],
      "metadata": {
        "colab": {
          "base_uri": "https://localhost:8080/"
        },
        "id": "sA2FtLiuc4I5",
        "outputId": "0ea8b05b-8bbe-4cd1-df09-2aabfbb3fb07"
      },
      "execution_count": null,
      "outputs": [
        {
          "output_type": "stream",
          "name": "stdout",
          "text": [
            "Topic: 0 \n",
            "Words: 0.025*\"unacademy\" + 0.018*\"good\" + 0.014*\"course\" + 0.014*\"update\" + 0.013*\"live\" + 0.013*\"class\" + 0.012*\"student\" + 0.012*\"team\" + 0.009*\"free\" + 0.008*\"subscription\"\n",
            "\n",
            "\n",
            "Topic: 1 \n",
            "Words: 0.025*\"class\" + 0.019*\"working\" + 0.017*\"test\" + 0.016*\"update\" + 0.015*\"issue\" + 0.013*\"open\" + 0.012*\"good\" + 0.011*\"course\" + 0.011*\"worst\" + 0.011*\"facing\"\n",
            "\n",
            "\n",
            "Topic: 2 \n",
            "Words: 0.031*\"teacher\" + 0.025*\"unacademy\" + 0.024*\"platform\" + 0.018*\"subscription\" + 0.014*\"subscribe\" + 0.012*\"student\" + 0.012*\"plus\" + 0.011*\"best\" + 0.010*\"worst\" + 0.010*\"provide\"\n",
            "\n",
            "\n",
            "Topic: 3 \n",
            "Words: 0.024*\"course\" + 0.019*\"teacher\" + 0.018*\"class\" + 0.015*\"subscription\" + 0.014*\"good\" + 0.012*\"unacademy\" + 0.012*\"study\" + 0.011*\"time\" + 0.010*\"best\" + 0.010*\"device\"\n",
            "\n",
            "\n",
            "Topic: 4 \n",
            "Words: 0.027*\"good\" + 0.022*\"educator\" + 0.020*\"class\" + 0.018*\"unacademy\" + 0.016*\"learning\" + 0.016*\"issue\" + 0.015*\"note\" + 0.011*\"time\" + 0.011*\"doubt\" + 0.010*\"star\"\n",
            "\n",
            "\n",
            "Topic: 5 \n",
            "Words: 0.036*\"unacademy\" + 0.018*\"feature\" + 0.018*\"money\" + 0.018*\"teacher\" + 0.017*\"time\" + 0.015*\"best\" + 0.013*\"subscription\" + 0.010*\"class\" + 0.009*\"learning\" + 0.009*\"content\"\n",
            "\n",
            "\n",
            "Topic: 6 \n",
            "Words: 0.023*\"educator\" + 0.022*\"unacademy\" + 0.016*\"screen\" + 0.015*\"subscription\" + 0.012*\"platform\" + 0.009*\"good\" + 0.007*\"online\" + 0.007*\"education\" + 0.007*\"phone\" + 0.007*\"feature\"\n",
            "\n",
            "\n",
            "\n",
            "\n"
          ]
        }
      ]
    },
    {
      "cell_type": "markdown",
      "source": [
        "* Topic-1  Good Course, Live free class along with interaction\n",
        "* Topic-2 Test Update issue\n",
        "* Topic-3,4,5 ,6,7 Positive Reviews"
      ],
      "metadata": {
        "id": "foYfktNZEU0W"
      }
    },
    {
      "cell_type": "code",
      "source": [
        "plot(app26data)"
      ],
      "metadata": {
        "colab": {
          "base_uri": "https://localhost:8080/"
        },
        "id": "B-ToQbTfV5vy",
        "outputId": "e5a42ea7-efa8-4f46-e414-d7f038258b50"
      },
      "execution_count": null,
      "outputs": [
        {
          "output_type": "stream",
          "name": "stderr",
          "text": [
            "/usr/local/lib/python3.7/dist-packages/seaborn/_decorators.py:43: FutureWarning: Pass the following variable as a keyword arg: x. From version 0.12, the only valid positional argument will be `data`, and passing other arguments without an explicit keyword will result in an error or misinterpretation.\n",
            "  FutureWarning\n"
          ]
        },
        {
          "output_type": "display_data",
          "data": {
            "text/plain": [
              "<Figure size 432x288 with 1 Axes>"
            ],
            "image/png": "[encoded data removed]"
          },
          "metadata": {
            "needs_background": "light"
          }
        }
      ]
    },
    {
      "cell_type": "markdown",
      "source": [
        "##APP27"
      ],
      "metadata": {
        "id": "nIiMOW-UWxGD"
      }
    },
    {
      "cell_type": "code",
      "source": [
        "app27data= pd.read_excel('/content/Vedantu.xlsx')\n",
        "app27data_bad_reviews= app27data.loc[app27data.score==1]\n",
        "printing_topics(app27data_bad_reviews)\n",
        "print(\"\\n\")"
      ],
      "metadata": {
        "colab": {
          "base_uri": "https://localhost:8080/"
        },
        "id": "8rzhSGXUc_LS",
        "outputId": "f827426c-f19d-40f9-b73a-3bb8ab8d23ac"
      },
      "execution_count": null,
      "outputs": [
        {
          "output_type": "stream",
          "name": "stdout",
          "text": [
            "Topic: 0 \n",
            "Words: 0.029*\"class\" + 0.019*\"good\" + 0.018*\"doubt\" + 0.016*\"vedantu\" + 0.015*\"time\" + 0.012*\"problem\" + 0.011*\"live\" + 0.010*\"video\" + 0.010*\"experience\" + 0.010*\"minute\"\n",
            "\n",
            "\n",
            "Topic: 1 \n",
            "Words: 0.024*\"time\" + 0.023*\"issue\" + 0.022*\"teacher\" + 0.020*\"good\" + 0.018*\"worst\" + 0.016*\"open\" + 0.013*\"class\" + 0.012*\"vedantu\" + 0.011*\"problem\" + 0.010*\"learning\"\n",
            "\n",
            "\n",
            "Topic: 2 \n",
            "Words: 0.036*\"vedantu\" + 0.023*\"refund\" + 0.018*\"class\" + 0.016*\"study\" + 0.012*\"want\" + 0.012*\"good\" + 0.011*\"course\" + 0.010*\"note\" + 0.010*\"problem\" + 0.010*\"live\"\n",
            "\n",
            "\n",
            "Topic: 3 \n",
            "Words: 0.046*\"class\" + 0.022*\"vedantu\" + 0.019*\"teacher\" + 0.016*\"time\" + 0.012*\"like\" + 0.012*\"live\" + 0.012*\"experience\" + 0.011*\"good\" + 0.011*\"worst\" + 0.010*\"option\"\n",
            "\n",
            "\n",
            "Topic: 4 \n",
            "Words: 0.021*\"time\" + 0.013*\"worst\" + 0.011*\"free\" + 0.011*\"vedantu\" + 0.010*\"class\" + 0.010*\"application\" + 0.010*\"number\" + 0.010*\"content\" + 0.009*\"like\" + 0.009*\"issue\"\n",
            "\n",
            "\n",
            "Topic: 5 \n",
            "Words: 0.022*\"worst\" + 0.020*\"problem\" + 0.014*\"class\" + 0.012*\"good\" + 0.010*\"want\" + 0.010*\"answer\" + 0.010*\"get\" + 0.010*\"subscription\" + 0.009*\"time\" + 0.009*\"star\"\n",
            "\n",
            "\n",
            "Topic: 6 \n",
            "Words: 0.015*\"message\" + 0.013*\"problem\" + 0.011*\"option\" + 0.011*\"money\" + 0.011*\"teacher\" + 0.009*\"answer\" + 0.009*\"test\" + 0.008*\"course\" + 0.007*\"phone\" + 0.007*\"time\"\n",
            "\n",
            "\n",
            "\n",
            "\n"
          ]
        }
      ]
    },
    {
      "cell_type": "markdown",
      "source": [
        "* Topic-1 Good live experience\n",
        "* Topic-2 Good App but time issues\n",
        "* Topic-3,4 Positive\n",
        "* Topic-5 Content Isuue\n",
        "* Topic-6 Good class\n",
        "* Topic-7 Messeging issue to the teacher"
      ],
      "metadata": {
        "id": "--VX_b8WE3vP"
      }
    },
    {
      "cell_type": "code",
      "source": [
        "plot(app27data)"
      ],
      "metadata": {
        "colab": {
          "base_uri": "https://localhost:8080/"
        },
        "id": "epB1t_fOV8ej",
        "outputId": "e68867d4-43c8-4979-e138-7c9f468161ce"
      },
      "execution_count": null,
      "outputs": [
        {
          "output_type": "stream",
          "name": "stderr",
          "text": [
            "/usr/local/lib/python3.7/dist-packages/seaborn/_decorators.py:43: FutureWarning: Pass the following variable as a keyword arg: x. From version 0.12, the only valid positional argument will be `data`, and passing other arguments without an explicit keyword will result in an error or misinterpretation.\n",
            "  FutureWarning\n"
          ]
        },
        {
          "output_type": "display_data",
          "data": {
            "text/plain": [
              "<Figure size 432x288 with 1 Axes>"
            ],
            "image/png": "[encoded data removed]"
          },
          "metadata": {
            "needs_background": "light"
          }
        }
      ]
    },
    {
      "cell_type": "markdown",
      "source": [
        "##APP28"
      ],
      "metadata": {
        "id": "UElNbgmKWyDA"
      }
    },
    {
      "cell_type": "code",
      "source": [
        "app28data= pd.read_excel('/content/ePathshala (1).xlsx')\n",
        "app28data_bad_reviews= app28data.loc[app28data.score==1]\n",
        "printing_topics(app28data_bad_reviews)\n",
        "print(\"\\n\")"
      ],
      "metadata": {
        "colab": {
          "base_uri": "https://localhost:8080/"
        },
        "id": "ybz86zI-dFHq",
        "outputId": "4410d9c9-155a-4545-95b2-5726eb56c446"
      },
      "execution_count": null,
      "outputs": [
        {
          "output_type": "stream",
          "name": "stdout",
          "text": [
            "Topic: 0 \n",
            "Words: 0.023*\"page\" + 0.022*\"developer\" + 0.018*\"symbol\" + 0.018*\"feature\" + 0.014*\"video\" + 0.014*\"class\" + 0.010*\"downloading\" + 0.009*\"device\" + 0.009*\"installed\" + 0.009*\"hope\"\n",
            "\n",
            "\n",
            "Topic: 1 \n",
            "Words: 0.024*\"time\" + 0.023*\"mode\" + 0.020*\"update\" + 0.019*\"download\" + 0.018*\"downloading\" + 0.017*\"book\" + 0.015*\"chapter\" + 0.015*\"internet\" + 0.015*\"application\" + 0.013*\"worst\"\n",
            "\n",
            "\n",
            "Topic: 2 \n",
            "Words: 0.059*\"book\" + 0.042*\"downloading\" + 0.025*\"available\" + 0.024*\"time\" + 0.024*\"working\" + 0.017*\"audio\" + 0.017*\"video\" + 0.016*\"worst\" + 0.015*\"opening\" + 0.015*\"section\"\n",
            "\n",
            "\n",
            "Topic: 3 \n",
            "Words: 0.029*\"download\" + 0.029*\"time\" + 0.025*\"problem\" + 0.021*\"properly\" + 0.018*\"ebook\" + 0.017*\"work\" + 0.014*\"downloading\" + 0.014*\"downloaded\" + 0.013*\"content\" + 0.012*\"know\"\n",
            "\n",
            "\n",
            "Topic: 4 \n",
            "Words: 0.027*\"good\" + 0.019*\"book\" + 0.016*\"brightness\" + 0.015*\"download\" + 0.015*\"went\" + 0.015*\"wrong\" + 0.013*\"open\" + 0.012*\"work\" + 0.012*\"thing\" + 0.011*\"device\"\n",
            "\n",
            "\n",
            "Topic: 5 \n",
            "Words: 0.100*\"book\" + 0.071*\"download\" + 0.032*\"downloaded\" + 0.026*\"able\" + 0.022*\"time\" + 0.022*\"server\" + 0.020*\"show\" + 0.019*\"showing\" + 0.018*\"working\" + 0.017*\"response\"\n",
            "\n",
            "\n",
            "Topic: 6 \n",
            "Words: 0.022*\"book\" + 0.016*\"working\" + 0.013*\"apps\" + 0.011*\"user\" + 0.011*\"file\" + 0.010*\"wrong\" + 0.010*\"went\" + 0.010*\"chapter\" + 0.010*\"hindi\" + 0.010*\"govt\"\n",
            "\n",
            "\n",
            "\n",
            "\n"
          ]
        }
      ]
    },
    {
      "cell_type": "markdown",
      "source": [
        "* Topic-1  Positive \n",
        "* Topic-2 Internet issues\n",
        "* Topic-3 Book downloading available \n",
        "* Topic-4 Time issues\n",
        "* Topic-5 ,6,7 Positive reviews"
      ],
      "metadata": {
        "id": "4nrQGfhNFy52"
      }
    },
    {
      "cell_type": "code",
      "source": [
        "plot(app28data)"
      ],
      "metadata": {
        "colab": {
          "base_uri": "https://localhost:8080/"
        },
        "id": "MM3oebyqV_n6",
        "outputId": "ccd125ff-fc40-4d75-afe5-5b75cddf99de"
      },
      "execution_count": null,
      "outputs": [
        {
          "output_type": "stream",
          "name": "stderr",
          "text": [
            "/usr/local/lib/python3.7/dist-packages/seaborn/_decorators.py:43: FutureWarning: Pass the following variable as a keyword arg: x. From version 0.12, the only valid positional argument will be `data`, and passing other arguments without an explicit keyword will result in an error or misinterpretation.\n",
            "  FutureWarning\n"
          ]
        },
        {
          "output_type": "display_data",
          "data": {
            "text/plain": [
              "<Figure size 432x288 with 1 Axes>"
            ],
            "image/png": "[encoded data removed]"
          },
          "metadata": {
            "needs_background": "light"
          }
        }
      ]
    },
    {
      "cell_type": "markdown",
      "source": [
        "##APP29"
      ],
      "metadata": {
        "id": "h03H-P71Wy6L"
      }
    },
    {
      "cell_type": "code",
      "source": [
        "app29data= pd.read_excel('/content/edX.xlsx')\n",
        "app29data_bad_reviews= app29data.loc[app29data.score==1]\n",
        "printing_topics(app29data_bad_reviews)\n",
        "print(\"\\n\")"
      ],
      "metadata": {
        "colab": {
          "base_uri": "https://localhost:8080/"
        },
        "id": "UNqiAhohdK20",
        "outputId": "14f9bb96-a89b-4437-a627-75b824b61352"
      },
      "execution_count": null,
      "outputs": [
        {
          "output_type": "stream",
          "name": "stdout",
          "text": [
            "Topic: 0 \n",
            "Words: 0.043*\"course\" + 0.017*\"search\" + 0.013*\"work\" + 0.013*\"problem\" + 0.012*\"downloaded\" + 0.011*\"unable\" + 0.011*\"show\" + 0.009*\"sign\" + 0.009*\"phone\" + 0.009*\"browser\"\n",
            "\n",
            "\n",
            "Topic: 1 \n",
            "Words: 0.023*\"course\" + 0.015*\"mobile\" + 0.013*\"issue\" + 0.010*\"exam\" + 0.009*\"difficult\" + 0.008*\"data\" + 0.008*\"text\" + 0.008*\"support\" + 0.008*\"money\" + 0.008*\"user\"\n",
            "\n",
            "\n",
            "Topic: 2 \n",
            "Words: 0.033*\"course\" + 0.025*\"video\" + 0.019*\"screen\" + 0.016*\"page\" + 0.016*\"time\" + 0.014*\"account\" + 0.012*\"access\" + 0.009*\"download\" + 0.009*\"keep\" + 0.009*\"crashing\"\n",
            "\n",
            "\n",
            "Topic: 3 \n",
            "Words: 0.042*\"course\" + 0.019*\"page\" + 0.015*\"error\" + 0.014*\"load\" + 0.013*\"browser\" + 0.010*\"mobile\" + 0.010*\"time\" + 0.010*\"video\" + 0.008*\"crash\" + 0.008*\"data\"\n",
            "\n",
            "\n",
            "Topic: 4 \n",
            "Words: 0.045*\"course\" + 0.030*\"video\" + 0.017*\"time\" + 0.016*\"load\" + 0.011*\"screen\" + 0.010*\"downloaded\" + 0.009*\"tried\" + 0.008*\"account\" + 0.008*\"watch\" + 0.008*\"register\"\n",
            "\n",
            "\n",
            "Topic: 5 \n",
            "Words: 0.036*\"video\" + 0.020*\"course\" + 0.016*\"work\" + 0.012*\"option\" + 0.010*\"quality\" + 0.010*\"class\" + 0.010*\"great\" + 0.008*\"content\" + 0.008*\"website\" + 0.007*\"experience\"\n",
            "\n",
            "\n",
            "Topic: 6 \n",
            "Words: 0.017*\"video\" + 0.014*\"crash\" + 0.014*\"device\" + 0.014*\"page\" + 0.011*\"work\" + 0.011*\"content\" + 0.011*\"website\" + 0.011*\"download\" + 0.009*\"watch\" + 0.009*\"keep\"\n",
            "\n",
            "\n",
            "\n",
            "\n"
          ]
        }
      ]
    },
    {
      "cell_type": "markdown",
      "source": [
        "* Topic-1 Browser unable to download\n",
        "* Topic-2 Diffriculty in exam \n",
        "* Topic-3 Crashing \n",
        "* Topic-4 Error in loading the course page\n",
        "* Topic-5 Registration issues\n",
        "* Topic-6 Good Experience\n",
        "* Topic-7 Crashing device while watching video"
      ],
      "metadata": {
        "id": "pMhb75aXU4M3"
      }
    },
    {
      "cell_type": "code",
      "source": [
        "plot(app29data)"
      ],
      "metadata": {
        "id": "sof8zfTrWEMW",
        "outputId": "4f2e9365-e0e6-4aac-f6c4-8418a916bdb2",
        "colab": {
          "base_uri": "https://localhost:8080/"
        }
      },
      "execution_count": null,
      "outputs": [
        {
          "output_type": "stream",
          "name": "stderr",
          "text": [
            "/usr/local/lib/python3.7/dist-packages/seaborn/_decorators.py:43: FutureWarning: Pass the following variable as a keyword arg: x. From version 0.12, the only valid positional argument will be `data`, and passing other arguments without an explicit keyword will result in an error or misinterpretation.\n",
            "  FutureWarning\n"
          ]
        },
        {
          "output_type": "display_data",
          "data": {
            "text/plain": [
              "<Figure size 432x288 with 1 Axes>"
            ],
            "image/png": "[encoded data removed]"
          },
          "metadata": {
            "needs_background": "light"
          }
        }
      ]
    },
    {
      "cell_type": "markdown",
      "source": [
        "##APP30"
      ],
      "metadata": {
        "id": "i5G3Hf1pWz-Z"
      }
    },
    {
      "cell_type": "code",
      "source": [
        "app30data= pd.read_excel('/content/uLesson (1).xlsx')\n",
        "app30data_bad_reviews= app30data.loc[app30data.score==1]\n",
        "printing_topics(app30data_bad_reviews)\n",
        "print(\"\\n\")"
      ],
      "metadata": {
        "colab": {
          "base_uri": "https://localhost:8080/"
        },
        "id": "Dgb7NGqJdR_j",
        "outputId": "bb76f8b4-9b78-421d-d929-3c03892947dc"
      },
      "execution_count": null,
      "outputs": [
        {
          "output_type": "stream",
          "name": "stdout",
          "text": [
            "Topic: 0 \n",
            "Words: 0.026*\"number\" + 0.016*\"code\" + 0.015*\"connection\" + 0.015*\"open\" + 0.013*\"phone\" + 0.013*\"downloading\" + 0.011*\"subscription\" + 0.011*\"good\" + 0.011*\"subject\" + 0.010*\"lesson\"\n",
            "\n",
            "\n",
            "Topic: 1 \n",
            "Words: 0.020*\"phone\" + 0.020*\"working\" + 0.014*\"country\" + 0.014*\"opened\" + 0.014*\"keep\" + 0.014*\"open\" + 0.012*\"number\" + 0.012*\"downloaded\" + 0.012*\"update\" + 0.012*\"annoying\"\n",
            "\n",
            "\n",
            "Topic: 2 \n",
            "Words: 0.019*\"time\" + 0.014*\"video\" + 0.014*\"lesson\" + 0.012*\"waste\" + 0.012*\"subject\" + 0.011*\"help\" + 0.010*\"recommend\" + 0.010*\"payment\" + 0.009*\"thanks\" + 0.009*\"phone\"\n",
            "\n",
            "\n",
            "Topic: 3 \n",
            "Words: 0.022*\"country\" + 0.022*\"code\" + 0.019*\"open\" + 0.019*\"want\" + 0.019*\"guy\" + 0.018*\"data\" + 0.017*\"primary\" + 0.015*\"like\" + 0.014*\"need\" + 0.012*\"downloaded\"\n",
            "\n",
            "\n",
            "Topic: 4 \n",
            "Words: 0.025*\"student\" + 0.025*\"subject\" + 0.018*\"like\" + 0.018*\"saying\" + 0.017*\"science\" + 0.016*\"work\" + 0.012*\"help\" + 0.011*\"commercial\" + 0.011*\"people\" + 0.011*\"data\"\n",
            "\n",
            "\n",
            "Topic: 5 \n",
            "Words: 0.013*\"lesson\" + 0.012*\"star\" + 0.010*\"loading\" + 0.010*\"said\" + 0.010*\"video\" + 0.010*\"time\" + 0.009*\"tried\" + 0.009*\"downloaded\" + 0.008*\"want\" + 0.007*\"terrible\"\n",
            "\n",
            "\n",
            "Topic: 6 \n",
            "Words: 0.024*\"data\" + 0.024*\"time\" + 0.015*\"lesson\" + 0.013*\"work\" + 0.013*\"update\" + 0.011*\"ulesson\" + 0.009*\"problem\" + 0.009*\"thank\" + 0.009*\"tablet\" + 0.009*\"question\"\n",
            "\n",
            "\n",
            "\n",
            "\n"
          ]
        }
      ]
    },
    {
      "cell_type": "markdown",
      "source": [
        "* Topic-1 : Opening, downloading and subscription issues \n",
        "* Topic-2 : Not working properly , update issues\n",
        "* Topic-3: Time delay issues\n",
        "* Topic-4: Posiitve reviews\n",
        "* Topic-5: Good reviews\n",
        "* Topic-6: Loading issues, time delay and download issues\n",
        "* Topic-7: Working and update issues mostly regarding data and time"
      ],
      "metadata": {
        "id": "bAY6ks7mRmRV"
      }
    },
    {
      "cell_type": "code",
      "source": [
        "plot(app30data)"
      ],
      "metadata": {
        "id": "f5hT2WGcWHia",
        "outputId": "fdaad0cb-7f6a-415f-fdf6-b5f1047ea6f9",
        "colab": {
          "base_uri": "https://localhost:8080/"
        }
      },
      "execution_count": null,
      "outputs": [
        {
          "output_type": "stream",
          "name": "stderr",
          "text": [
            "/usr/local/lib/python3.7/dist-packages/seaborn/_decorators.py:43: FutureWarning: Pass the following variable as a keyword arg: x. From version 0.12, the only valid positional argument will be `data`, and passing other arguments without an explicit keyword will result in an error or misinterpretation.\n",
            "  FutureWarning\n"
          ]
        },
        {
          "output_type": "display_data",
          "data": {
            "text/plain": [
              "<Figure size 432x288 with 1 Axes>"
            ],
            "image/png": "[encoded data removed]"
          },
          "metadata": {
            "needs_background": "light"
          }
        }
      ]
    }
  ]
}